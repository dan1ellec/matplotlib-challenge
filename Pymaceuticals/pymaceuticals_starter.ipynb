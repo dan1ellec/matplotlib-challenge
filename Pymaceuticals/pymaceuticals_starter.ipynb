{
 "cells": [
  {
   "cell_type": "markdown",
   "metadata": {},
   "source": [
    "## Observations and Insights "
   ]
  },
  {
   "cell_type": "markdown",
   "metadata": {},
   "source": []
  },
  {
   "cell_type": "code",
   "execution_count": 2,
   "metadata": {},
   "outputs": [
    {
     "data": {
      "text/html": [
       "<div>\n",
       "<style scoped>\n",
       "    .dataframe tbody tr th:only-of-type {\n",
       "        vertical-align: middle;\n",
       "    }\n",
       "\n",
       "    .dataframe tbody tr th {\n",
       "        vertical-align: top;\n",
       "    }\n",
       "\n",
       "    .dataframe thead th {\n",
       "        text-align: right;\n",
       "    }\n",
       "</style>\n",
       "<table border=\"1\" class=\"dataframe\">\n",
       "  <thead>\n",
       "    <tr style=\"text-align: right;\">\n",
       "      <th></th>\n",
       "      <th>Mouse ID</th>\n",
       "      <th>Drug Regimen</th>\n",
       "      <th>Sex</th>\n",
       "      <th>Age_months</th>\n",
       "      <th>Weight (g)</th>\n",
       "      <th>Timepoint</th>\n",
       "      <th>Tumor Volume (mm3)</th>\n",
       "      <th>Metastatic Sites</th>\n",
       "    </tr>\n",
       "  </thead>\n",
       "  <tbody>\n",
       "    <tr>\n",
       "      <th>0</th>\n",
       "      <td>k403</td>\n",
       "      <td>Ramicane</td>\n",
       "      <td>Male</td>\n",
       "      <td>21</td>\n",
       "      <td>16</td>\n",
       "      <td>0</td>\n",
       "      <td>45.000000</td>\n",
       "      <td>0</td>\n",
       "    </tr>\n",
       "    <tr>\n",
       "      <th>1</th>\n",
       "      <td>k403</td>\n",
       "      <td>Ramicane</td>\n",
       "      <td>Male</td>\n",
       "      <td>21</td>\n",
       "      <td>16</td>\n",
       "      <td>5</td>\n",
       "      <td>38.825898</td>\n",
       "      <td>0</td>\n",
       "    </tr>\n",
       "    <tr>\n",
       "      <th>2</th>\n",
       "      <td>k403</td>\n",
       "      <td>Ramicane</td>\n",
       "      <td>Male</td>\n",
       "      <td>21</td>\n",
       "      <td>16</td>\n",
       "      <td>10</td>\n",
       "      <td>35.014271</td>\n",
       "      <td>1</td>\n",
       "    </tr>\n",
       "    <tr>\n",
       "      <th>3</th>\n",
       "      <td>k403</td>\n",
       "      <td>Ramicane</td>\n",
       "      <td>Male</td>\n",
       "      <td>21</td>\n",
       "      <td>16</td>\n",
       "      <td>15</td>\n",
       "      <td>34.223992</td>\n",
       "      <td>1</td>\n",
       "    </tr>\n",
       "    <tr>\n",
       "      <th>4</th>\n",
       "      <td>k403</td>\n",
       "      <td>Ramicane</td>\n",
       "      <td>Male</td>\n",
       "      <td>21</td>\n",
       "      <td>16</td>\n",
       "      <td>20</td>\n",
       "      <td>32.997729</td>\n",
       "      <td>1</td>\n",
       "    </tr>\n",
       "  </tbody>\n",
       "</table>\n",
       "</div>"
      ],
      "text/plain": [
       "  Mouse ID Drug Regimen   Sex  Age_months  Weight (g)  Timepoint  \\\n",
       "0     k403     Ramicane  Male          21          16          0   \n",
       "1     k403     Ramicane  Male          21          16          5   \n",
       "2     k403     Ramicane  Male          21          16         10   \n",
       "3     k403     Ramicane  Male          21          16         15   \n",
       "4     k403     Ramicane  Male          21          16         20   \n",
       "\n",
       "   Tumor Volume (mm3)  Metastatic Sites  \n",
       "0           45.000000                 0  \n",
       "1           38.825898                 0  \n",
       "2           35.014271                 1  \n",
       "3           34.223992                 1  \n",
       "4           32.997729                 1  "
      ]
     },
     "execution_count": 2,
     "metadata": {},
     "output_type": "execute_result"
    }
   ],
   "source": [
    "# Dependencies and Setup\n",
    "import matplotlib.pyplot as plt\n",
    "import pandas as pd\n",
    "import scipy.stats as st\n",
    "\n",
    "# Study data files\n",
    "mouse_metadata_path = \"data/Mouse_metadata.csv\"\n",
    "study_results_path = \"data/Study_results.csv\"\n",
    "\n",
    "# Read the mouse data and the study results\n",
    "mouse_metadata = pd.read_csv(mouse_metadata_path)\n",
    "study_results = pd.read_csv(study_results_path)\n",
    "\n",
    "# Combine the data into a single dataset\n",
    "mouse_study = pd.merge(mouse_metadata, study_results, how='outer', on= 'Mouse ID')\n",
    "\n",
    "# Display the data table for preview\n",
    "mouse_study.head()"
   ]
  },
  {
   "cell_type": "markdown",
   "metadata": {},
   "source": [
    "### Heading"
   ]
  },
  {
   "cell_type": "markdown",
   "metadata": {},
   "source": [
    "mouse_metadata"
   ]
  },
  {
   "cell_type": "code",
   "execution_count": 23,
   "metadata": {},
   "outputs": [
    {
     "data": {
      "text/html": [
       "<div>\n",
       "<style scoped>\n",
       "    .dataframe tbody tr th:only-of-type {\n",
       "        vertical-align: middle;\n",
       "    }\n",
       "\n",
       "    .dataframe tbody tr th {\n",
       "        vertical-align: top;\n",
       "    }\n",
       "\n",
       "    .dataframe thead th {\n",
       "        text-align: right;\n",
       "    }\n",
       "</style>\n",
       "<table border=\"1\" class=\"dataframe\">\n",
       "  <thead>\n",
       "    <tr style=\"text-align: right;\">\n",
       "      <th></th>\n",
       "      <th>Mouse ID</th>\n",
       "      <th>Timepoint</th>\n",
       "      <th>Tumor Volume (mm3)</th>\n",
       "      <th>Metastatic Sites</th>\n",
       "    </tr>\n",
       "  </thead>\n",
       "  <tbody>\n",
       "    <tr>\n",
       "      <th>0</th>\n",
       "      <td>b128</td>\n",
       "      <td>0</td>\n",
       "      <td>45.000000</td>\n",
       "      <td>0</td>\n",
       "    </tr>\n",
       "    <tr>\n",
       "      <th>1</th>\n",
       "      <td>f932</td>\n",
       "      <td>0</td>\n",
       "      <td>45.000000</td>\n",
       "      <td>0</td>\n",
       "    </tr>\n",
       "    <tr>\n",
       "      <th>2</th>\n",
       "      <td>g107</td>\n",
       "      <td>0</td>\n",
       "      <td>45.000000</td>\n",
       "      <td>0</td>\n",
       "    </tr>\n",
       "    <tr>\n",
       "      <th>3</th>\n",
       "      <td>a457</td>\n",
       "      <td>0</td>\n",
       "      <td>45.000000</td>\n",
       "      <td>0</td>\n",
       "    </tr>\n",
       "    <tr>\n",
       "      <th>4</th>\n",
       "      <td>c819</td>\n",
       "      <td>0</td>\n",
       "      <td>45.000000</td>\n",
       "      <td>0</td>\n",
       "    </tr>\n",
       "    <tr>\n",
       "      <th>...</th>\n",
       "      <td>...</td>\n",
       "      <td>...</td>\n",
       "      <td>...</td>\n",
       "      <td>...</td>\n",
       "    </tr>\n",
       "    <tr>\n",
       "      <th>1888</th>\n",
       "      <td>r944</td>\n",
       "      <td>45</td>\n",
       "      <td>41.581521</td>\n",
       "      <td>2</td>\n",
       "    </tr>\n",
       "    <tr>\n",
       "      <th>1889</th>\n",
       "      <td>u364</td>\n",
       "      <td>45</td>\n",
       "      <td>31.023923</td>\n",
       "      <td>3</td>\n",
       "    </tr>\n",
       "    <tr>\n",
       "      <th>1890</th>\n",
       "      <td>p438</td>\n",
       "      <td>45</td>\n",
       "      <td>61.433892</td>\n",
       "      <td>1</td>\n",
       "    </tr>\n",
       "    <tr>\n",
       "      <th>1891</th>\n",
       "      <td>x773</td>\n",
       "      <td>45</td>\n",
       "      <td>58.634971</td>\n",
       "      <td>4</td>\n",
       "    </tr>\n",
       "    <tr>\n",
       "      <th>1892</th>\n",
       "      <td>b879</td>\n",
       "      <td>45</td>\n",
       "      <td>72.555239</td>\n",
       "      <td>2</td>\n",
       "    </tr>\n",
       "  </tbody>\n",
       "</table>\n",
       "<p>1893 rows × 4 columns</p>\n",
       "</div>"
      ],
      "text/plain": [
       "     Mouse ID  Timepoint  Tumor Volume (mm3)  Metastatic Sites\n",
       "0        b128          0           45.000000                 0\n",
       "1        f932          0           45.000000                 0\n",
       "2        g107          0           45.000000                 0\n",
       "3        a457          0           45.000000                 0\n",
       "4        c819          0           45.000000                 0\n",
       "...       ...        ...                 ...               ...\n",
       "1888     r944         45           41.581521                 2\n",
       "1889     u364         45           31.023923                 3\n",
       "1890     p438         45           61.433892                 1\n",
       "1891     x773         45           58.634971                 4\n",
       "1892     b879         45           72.555239                 2\n",
       "\n",
       "[1893 rows x 4 columns]"
      ]
     },
     "execution_count": 23,
     "metadata": {},
     "output_type": "execute_result"
    }
   ],
   "source": [
    "study_results"
   ]
  },
  {
   "cell_type": "code",
   "execution_count": 26,
   "metadata": {},
   "outputs": [
    {
     "name": "stdout",
     "output_type": "stream",
     "text": [
      "There are 249 mice in the study.\n"
     ]
    }
   ],
   "source": [
    "#KEEP\n",
    "\n",
    "# Checking the number of mice.\n",
    "\n",
    "# creating a list of mice ID's\n",
    "mouse_ids = mouse_study[\"Mouse ID\"].values\n",
    "\n",
    "# converting the list to a set of unique value\n",
    "unique_mice = set(mouse_ids)\n",
    "\n",
    "# finding its length, which is the number of unique values\n",
    "number_of_unique_mice = len(unique_mice)\n",
    "\n",
    "print(f\"There are {number_of_unique_mice} mice in the study.\")\n"
   ]
  },
  {
   "cell_type": "code",
   "execution_count": 38,
   "metadata": {},
   "outputs": [
    {
     "name": "stdout",
     "output_type": "stream",
     "text": [
      "The duplicated rows based on two columns are:\n",
      "    Mouse ID Drug Regimen     Sex  Age_months  Weight (g)  Timepoint  \\\n",
      "909     g989     Propriva  Female          21          26          0   \n",
      "911     g989     Propriva  Female          21          26          5   \n",
      "913     g989     Propriva  Female          21          26         10   \n",
      "915     g989     Propriva  Female          21          26         15   \n",
      "917     g989     Propriva  Female          21          26         20   \n",
      "\n",
      "     Tumor Volume (mm3)  Metastatic Sites  \n",
      "909           45.000000                 0  \n",
      "911           47.570392                 0  \n",
      "913           49.880528                 0  \n",
      "915           53.442020                 0  \n",
      "917           54.657650                 1  \n",
      "\n",
      "The ID number of the mouse with duplicated data is g989.\n"
     ]
    }
   ],
   "source": [
    "#KEEP\n",
    "# Finding the duplicate mice \n",
    "# Seeing which Mouse ID numbers have duplicated Timepoint values. \n",
    "\n",
    "# obtaining the rows in the dataframe which are duplicated, by considering the two appropriate columns\n",
    "duplicate_rows = mouse_study[mouse_study.duplicated(['Mouse ID', 'Timepoint'])]\n",
    "\n",
    "print(\"The duplicated rows based on two columns are:\")\n",
    "print(f\"{duplicate_rows}\")\n",
    "print(\"\")\n",
    "\n",
    "# obtaining the ID of the mouse that has duplicated data\n",
    "mouse_duplicate_id = duplicate_rows.iloc[1,0]\n",
    "\n",
    "print(f\"The ID number of the mouse with duplicated data is {mouse_duplicate_id}.\")"
   ]
  },
  {
   "cell_type": "code",
   "execution_count": 40,
   "metadata": {},
   "outputs": [],
   "source": [
    "#KEEP\n",
    "\n",
    "# Creating a clean DataFrame by dropping the duplicate mouse by its ID.\n",
    "clean_mouse_data = mouse_study.loc[mouse_study[\"Mouse ID\"] != mouse_duplicate_id, :]\n"
   ]
  },
  {
   "cell_type": "code",
   "execution_count": 41,
   "metadata": {},
   "outputs": [
    {
     "name": "stdout",
     "output_type": "stream",
     "text": [
      "There are 248 mice in the study after removing the mouse with duplicate data.\n"
     ]
    }
   ],
   "source": [
    "#KEEP\n",
    "# Checking the number of mice in the clean DataFrame to ensure there is now 248.\n",
    "\n",
    "mouse_ids = clean_mouse_data[\"Mouse ID\"].values\n",
    "unique_mice = set(mouse_ids)\n",
    "number_of_unique_mice = len(unique_mice)\n",
    "print(f\"There are {number_of_unique_mice} mice in the study after removing the mouse with duplicate data.\")"
   ]
  },
  {
   "cell_type": "code",
   "execution_count": 15,
   "metadata": {},
   "outputs": [
    {
     "name": "stdout",
     "output_type": "stream",
     "text": [
      "There are 249 mice ID's recorded in the Dataframe\n"
     ]
    }
   ],
   "source": [
    "# Checking the number of mice in the mouse_metadata dataframe\n",
    "\n",
    "number_of_mice = mouse_metadata[\"Mouse ID\"].count()\n",
    "print(f\"There are {number_of_mice} mice ID's recorded in the Dataframe.\")\n",
    "\n"
   ]
  },
  {
   "cell_type": "code",
   "execution_count": null,
   "metadata": {},
   "outputs": [],
   "source": [
    "mouse_study[\"Mouse ID\"].value_counts()"
   ]
  },
  {
   "cell_type": "code",
   "execution_count": null,
   "metadata": {},
   "outputs": [],
   "source": [
    "list = (mouse_study[\"Mouse ID\"].value_counts() == 1)\n",
    "list.value_counts()\n",
    "#So there are 12 mice that only appear once"
   ]
  },
  {
   "cell_type": "code",
   "execution_count": null,
   "metadata": {},
   "outputs": [],
   "source": [
    "list = (mouse_study[\"Mouse ID\"].value_counts() == 2)\n",
    "list.value_counts()\n",
    "#So there are 15 mice that only appear twice"
   ]
  },
  {
   "cell_type": "code",
   "execution_count": null,
   "metadata": {},
   "outputs": [],
   "source": [
    "list = (mouse_study[\"Mouse ID\"].value_counts() == 10)\n",
    "list.value_counts()\n",
    "# there are 130 cases where the mouse has 10 datapoint, which it should for the time points\n",
    "# do I only keep them? or just remove the duplicates"
   ]
  },
  {
   "cell_type": "code",
   "execution_count": null,
   "metadata": {},
   "outputs": [],
   "source": [
    "cleaned_data = "
   ]
  },
  {
   "cell_type": "code",
   "execution_count": null,
   "metadata": {},
   "outputs": [],
   "source": [
    "test = mouse_study.loc[mouse_study[\"Mouse ID\"] == \"g989\"]\n",
    "test"
   ]
  },
  {
   "cell_type": "code",
   "execution_count": null,
   "metadata": {},
   "outputs": [],
   "source": [
    "test2 = mouse_study.loc[mouse_study[\"Mouse ID\"] == \"n482\"]\n",
    "test2"
   ]
  },
  {
   "cell_type": "code",
   "execution_count": 18,
   "metadata": {},
   "outputs": [
    {
     "name": "stdout",
     "output_type": "stream",
     "text": [
      "Duplicate Rows based on 2 columns are:\n",
      "    Mouse ID Drug Regimen     Sex  Age_months  Weight (g)  Timepoint  \\\n",
      "909     g989     Propriva  Female          21          26          0   \n",
      "911     g989     Propriva  Female          21          26          5   \n",
      "913     g989     Propriva  Female          21          26         10   \n",
      "915     g989     Propriva  Female          21          26         15   \n",
      "917     g989     Propriva  Female          21          26         20   \n",
      "\n",
      "     Tumor Volume (mm3)  Metastatic Sites  \n",
      "909           45.000000                 0  \n",
      "911           47.570392                 0  \n",
      "913           49.880528                 0  \n",
      "915           53.442020                 0  \n",
      "917           54.657650                 1  \n",
      "The ID number of the mouse with duplicated data is g989\n"
     ]
    }
   ],
   "source": [
    "# Getting the duplicate mice by ID number that shows up for Mouse ID and Timepoint. \n",
    "\n",
    "duplicate_rows = mouse_study[mouse_study.duplicated(['Mouse ID', 'Timepoint'])]\n",
    "\n",
    "mouse_duplicate = duplicate_rows['Mouse ID']\n",
    "\n",
    "print(\"Duplicate Rows based on 2 columns are:\", duplicate_rows, sep='\\n')\n",
    "\n",
    "mouse_duplicate_id = duplicate_rows.iloc[1,0]\n",
    "\n",
    "print(f\"The ID number of the mouse with duplicated data is {mouse_duplicate_id}\")"
   ]
  },
  {
   "cell_type": "code",
   "execution_count": 20,
   "metadata": {},
   "outputs": [
    {
     "data": {
      "text/plain": [
       "909    g989\n",
       "911    g989\n",
       "913    g989\n",
       "915    g989\n",
       "917    g989\n",
       "Name: Mouse ID, dtype: object"
      ]
     },
     "execution_count": 20,
     "metadata": {},
     "output_type": "execute_result"
    }
   ],
   "source": [
    "# Optional: Get all the data for the duplicate mouse ID. \n",
    "mouse_duplicate\n"
   ]
  },
  {
   "cell_type": "code",
   "execution_count": null,
   "metadata": {},
   "outputs": [],
   "source": [
    "# Create a clean DataFrame by dropping the duplicate mouse by its ID.\n",
    "clean_mouse_data = mouse_study.loc[mouse_study[\"Mouse ID\"] != mouse_duplicate_id, :]\n",
    "clean_mouse_data"
   ]
  },
  {
   "cell_type": "code",
   "execution_count": null,
   "metadata": {},
   "outputs": [],
   "source": [
    "# Checking the number of mice in the clean DataFrame.\n",
    "\n",
    "mouse_ids = clean_mouse_data[\"Mouse ID\"].values\n",
    "unique_mice = set(mouse_ids)\n",
    "number_of_unique_mice = len(unique_mice)\n",
    "print(f\"There are {number_of_unique_mice} mice in the study after removing the mouse with duplicate data.\")"
   ]
  },
  {
   "cell_type": "markdown",
   "metadata": {},
   "source": [
    "## Summary Statistics"
   ]
  },
  {
   "cell_type": "code",
   "execution_count": null,
   "metadata": {},
   "outputs": [],
   "source": [
    "# Generate a summary statistics table of mean, median, variance, standard deviation, and SEM of the tumor volume for each regimen\n",
    "\n",
    "# This method is the most straighforward, creating multiple series and putting them all together at the end.\n",
    "\n",
    "# grouping the mouse data by regimen\n",
    "grouped_mouse_data = clean_mouse_data.groupby(['Drug Regimen'])\n",
    "\n",
    "mean = grouped_mouse_data[\"Tumor Volume (mm3)\"].mean()\n",
    "\n",
    "median = grouped_mouse_data[\"Tumor Volume (mm3)\"].median()\n",
    "\n",
    "mode = grouped_mouse_data[\"Tumor Volume (mm3)\"].agg(pd.Series.mode)\n",
    "mode\n",
    "\n",
    "mode2 = grouped_mouse_data[\"Tumor Volume (mm3)\"].agg(lambda x:x.value_counts().index[0])\n",
    "mode2\n",
    "\n",
    "# both mode options give 45 as the mode for eerything?? not sure if this is right??\n",
    "\n",
    "variance = grouped_mouse_data[\"Tumor Volume (mm3)\"].var()\n",
    "variance\n",
    "\n",
    "standard_deviation = grouped_mouse_data[\"Tumor Volume (mm3)\"].std()\n",
    "standard_deviation\n",
    "\n",
    "sem = grouped_mouse_data[\"Tumor Volume (mm3)\"].sem()\n",
    "sem\n",
    "\n",
    "summary_mouse_df = pd.DataFrame({\"Mean\": mean,\n",
    "                                \"Median\": median,\n",
    "                                \"Mode\": mode,\n",
    "                                \"Variance\": variance,\n",
    "                                \"Standard Deviation\": standard_deviation,\n",
    "                                \"SEM\": sem})\n",
    "summary_mouse_df"
   ]
  },
  {
   "cell_type": "code",
   "execution_count": null,
   "metadata": {},
   "outputs": [],
   "source": [
    "# Generate a summary statistics table of mean, median, variance, standard deviation, and SEM of the tumor volume for each regimen\n",
    "\n",
    "# This method produces everything in a single groupby function\n",
    "\n",
    "# oorrrrr\n",
    "\n",
    "\n",
    "summary = pd.DataFrame(grouped_mouse_data[\"Tumor Volume (mm3)\"].agg([np.mean, np.median, pd.Series.mode, np.var, np.std, \"sem\"])\n",
    ".rename(columns = {\"mean\":\"Mean\", \"median\":\"Median\", \"mode\":\"Mode\", \"var\":\"Variance\", \"std\":\"Standard Deviation\", \"sem\":\"SEM\"}))\n",
    "                       \n",
    "summary"
   ]
  },
  {
   "cell_type": "code",
   "execution_count": null,
   "metadata": {},
   "outputs": [],
   "source": [
    "#trying different\n",
    "# THIS WORKS THE BEST\n",
    "\n",
    "summary2 = pd.DataFrame(grouped_mouse_data[\"Tumor Volume (mm3)\"].agg([np.mean, np.median, st.mode, np.var, np.std, \"sem\"])\n",
    ".rename(columns = {\"mean\":\"Mean\", \"median\":\"Median\", \"mode\":\"Mode\", \"var\":\"Variance\", \"std\":\"Standard Deviation\", \"sem\":\"SEM\"}))\n",
    "                       \n",
    "summary2"
   ]
  },
  {
   "cell_type": "markdown",
   "metadata": {},
   "source": [
    "## Bar and Pie Charts"
   ]
  },
  {
   "cell_type": "code",
   "execution_count": null,
   "metadata": {},
   "outputs": [],
   "source": [
    "# Generate a bar plot showing the total number of mice for each treatment throughout the course of the study using pandas. \n",
    "\n",
    "#LOLS SO MUCH EASIER IF I USED mouse_metadata DF BECAUSE IT JUST HAS EACH MOUSE ONCE!!1\n",
    "# BUT REMOVE DUPLICATE\n",
    "\n",
    "# I KNOW THAT THERE SHOULD ONLY BE 248 mice in total so will need to remove duplicates \n",
    "# first want to remove dupliate moue ID's from the clean data so that each mouse appears once\n",
    "unique_mice_df = clean_mouse_data.drop_duplicates(subset = 'Mouse ID', keep = 'first')\n",
    "#this has 248 rows so only includes each mouse once!\n",
    "\n",
    "# now do a groupby for the drug regiman and a count\n",
    "grouped_regimen_df = unique_mice_df.groupby([\"Drug Regimen\"]).count()\n",
    "mice_per_treatment = grouped_regimen_df[\"Mouse ID\"]\n",
    "\n",
    "\n",
    "# plotting\n",
    "mice_per_treatment_chart = mice_per_treatment.plot(kind = \"bar\", title = \"Number of Mice Per Treatment\", figsize=(10,5))\n",
    "mice_per_treatment_chart.set_ylabel(\"Number of Mice\")\n",
    "plt.tight_layout()\n",
    "\n"
   ]
  },
  {
   "cell_type": "code",
   "execution_count": null,
   "metadata": {},
   "outputs": [],
   "source": [
    "# Generate a bar plot showing the total number of mice for each treatment throughout the course of the study using pyplot.\n",
    "# py plot is plt.bar(x axis, y axis)\n",
    "# so will need series/;lists\n",
    "# but can still base it off a table I believe\n",
    "\n",
    "# Will be obtaining data from grouped_regimen_df\n",
    "\n",
    "# Setting x axis and tick locations\n",
    "x_axis = np.arange(len(grouped_regimen_df))\n",
    "tick_locations = [value for value in x_axis]\n",
    "\n",
    "# Plotting the graph\n",
    "# x-axis is the numbered list created above, y-axis will be the values of the Mouse ID colunm in the dataframe\n",
    "# the values for the x-axis ticks id the index of the dataframe\n",
    "\n",
    "plt.bar(x_axis, grouped_regimen_df[\"Mouse ID\"], align=\"center\")\n",
    "plt.xticks(tick_locations, grouped_regimen_df.index, rotation=\"vertical\")\n",
    "plt.tight_layout()\n",
    "\n",
    "# Set x limits for neatness of x - axis\n",
    "plt.xlim(-0.75, len(x_axis)- 0.25)\n",
    "\n",
    "#setting a title and labels\n",
    "plt.title(\"Number of Mice Per Treatment\")\n",
    "plt.xlabel(\"Drug Regimen\")\n",
    "plt.ylabel(\"Number of Mice\")\n",
    "plt.show()\n",
    "\n",
    "# not sure how to change figure size.\n",
    "# also should I put the %matplotlib notebook thing at the top?? maybe that will make them look nicer\n"
   ]
  },
  {
   "cell_type": "code",
   "execution_count": null,
   "metadata": {},
   "outputs": [],
   "source": [
    "# Generate a pie plot showing the distribution of female versus male mice using pandas\n",
    "\n",
    "# usinf unique_mice_df again because just want one instance of each mouse\n",
    "\n",
    "# now do a groupby for the sex and a count\n",
    "grouped_by_sex_df = unique_mice_df.groupby([\"Sex\"]).count()\n",
    "mice_per_sex = grouped_by_sex_df[\"Mouse ID\"]\n",
    "\n",
    "mice_per_sex_chart = mice_per_sex.plot(kind = \"pie\", title = \"Distribution of Female Versus Male Mice\", autopct=\"%1.1f%%\")\n",
    "mice_per_treatment_chart.set_ylabel(\"Number of Mice\")\n",
    "plt.tight_layout()\n",
    "\n",
    "# how to get rid of MOuse ID\n",
    "# how to add percentages"
   ]
  },
  {
   "cell_type": "code",
   "execution_count": null,
   "metadata": {},
   "outputs": [],
   "source": [
    "# Generate a pie plot showing the distribution of female versus male mice using pyplot\n",
    "# grouped by sex df has female first\n",
    "\n",
    "distribution_of_sex_chart = plt.pie(grouped_by_sex_df[\"Mouse ID\"], labels = grouped_by_sex_df.index, autopct=\"%1.1f%%\")\n",
    "plt.title(\"Distribution of Female Versus Male Mice\")\n",
    "\n",
    "\n",
    "#plt.pie(pie_votes, labels = pies, colors = colors, explode = explode, autopct=\"%1.1f%%\", shadow=True, startangle=140)\n",
    "\n"
   ]
  },
  {
   "cell_type": "markdown",
   "metadata": {},
   "source": [
    "## Quartiles, Outliers and Boxplots"
   ]
  },
  {
   "cell_type": "code",
   "execution_count": null,
   "metadata": {},
   "outputs": [],
   "source": [
    "# Calculate the final tumor volume of each mouse across four of the treatment regimens:  \n",
    "# Capomulin, Ramicane, Infubinol, and Ceftamin\n",
    "\n",
    "# mouse_metadata shows mouse id, drug, sex, age, weight\n",
    "#study_results shows mouse id, timepoint, tumour volume and metastatic sites\n",
    "\n",
    "# so can just use already merged mouse_study and just keep last occurance of eahc mouse\n",
    "# actually, use clean_mouse_data becuase that has the duplicate removed\n",
    "\n",
    "last_timepoint_df = clean_mouse_data.drop_duplicates(subset = 'Mouse ID', keep = 'last')\n",
    "last_timepoint_df\n",
    "# Start by getting the last (greatest) timepoint for each mouse\n",
    "\n",
    "\n",
    "# Merge this group df with the original dataframe to get the tumor volume at the last timepoint\n"
   ]
  },
  {
   "cell_type": "code",
   "execution_count": null,
   "metadata": {},
   "outputs": [],
   "source": [
    "last_timepoint_df[\"Tumor Volume (mm3)\"]"
   ]
  },
  {
   "cell_type": "code",
   "execution_count": null,
   "metadata": {},
   "outputs": [],
   "source": [
    "#THIS IS THE ONE!!\n",
    "\n",
    "# Put treatments into a list for for loop (and later for plot labels)\n",
    "treatments = [\"Capomulin\", \"Ramicane\", \"Infubinol\", \"Ceftamin\"]\n",
    "\n",
    "\n",
    "# Create empty list to fill with tumor vol data (for plotting)\n",
    "tumour_volume_data = []\n",
    "\n",
    "# Calculate the IQR and quantitatively determine if there are any potential outliers. \n",
    "\n",
    "# looping through each treatment\n",
    "for treatment in treatments: \n",
    "    \n",
    "    # using loc to set the data frame to only contain the treatment being considered at that time\n",
    "    treatment_data = last_timepoint_df.loc[(last_timepoint_df[\"Drug Regimen\"] == treatment),:]\n",
    "    \n",
    "    # accessing the column which contains the tumour data for that treatment and setting it as a list\n",
    "    tumour_data = treatment_data[\"Tumor Volume (mm3)\"]\n",
    "    # Locate the rows which contain mice on each drug and get the tumor volumes\n",
    "    \n",
    "    # turning the tumour data into a list\n",
    "    tumour_data_list = tumour_data.tolist()\n",
    "    \n",
    "    # add subset \n",
    "    \n",
    "    # Determine outliers using upper and lower bounds\n",
    "    \n",
    "    quartiles = tumour_data.quantile([.25,.5,.75])\n",
    "    lowerq = quartiles[0.25]\n",
    "    upperq = quartiles[0.75]\n",
    "    iqr = upperq-lowerq\n",
    "\n",
    "    #print(f\"The lower quartile of {treatment} is: {lowerq}\")\n",
    "    #print(f\"The upper quartile of {treatment} is: {upperq}\")\n",
    "    #print(f\"The interquartile range of {treatment} is: {iqr}\")\n",
    "    #print(f\"The the median of {treatment} is: {quartiles[0.5]} \")\n",
    "\n",
    "    lower_bound = lowerq - (1.5*iqr)\n",
    "    upper_bound = upperq + (1.5*iqr)\n",
    "    print(f\"Values below {lower_bound} could be outliers for {treatment}.\")\n",
    "    print(f\"Values above {upper_bound} could be outliers for {treatment}.\")\n",
    "    \n",
    "    #finding values that are outliers\n",
    "    outliers = treatment_data.loc[(treatment_data[\"Tumor Volume (mm3)\"] < lower_bound) | (treatment_data[\"Tumor Volume (mm3)\"] > upper_bound)][\"Tumor Volume (mm3)\"]\n",
    "    # this creates a series \n",
    "    \n",
    "    outliers_value =  outliers.tolist()   \n",
    "    \n",
    "    if len(outliers) == 0:\n",
    "        print(f\"There are no outliers for {treatment}.\") \n",
    "    elif len(outliers) == 1:\n",
    "        print(f\"There is one outlier for {treatment}. It is {outliers_value[0]}.\")\n",
    "    elif len(outliers) == 2:\n",
    "        print(f\"There are two outliers for {treatment}. They are {outliers_value[0]} and {outliers_value[1]}.\")\n",
    "    else:\n",
    "        print(f\"There are more than two outliers for {treatment}.\")\n",
    "    \n",
    "    \n",
    "    # adding the tumour data for the individul treatment to the list for plotting\n",
    "    tumour_volume_data.append(tumour_data_list)\n",
    "next    \n",
    "\n",
    "# have commented out unnecessary rubbish - delete later\n"
   ]
  },
  {
   "cell_type": "code",
   "execution_count": null,
   "metadata": {},
   "outputs": [],
   "source": [
    "# trying for one to figure out what went wrong\n",
    "#treatments = [\"Capomulin\", \"Ramicane\", \"Infubinol\", \"Ceftamin\"]\n",
    "\n",
    "# Create empty list to fill with tumor vol data (for plotting)\n",
    "tumour_volume_data = []\n",
    "\n",
    "# Calculate the IQR and quantitatively determine if there are any potential outliers. \n",
    "\n",
    "# looping through each treatment\n",
    "#for treatment in treatments: \n",
    "    \n",
    "    # using loc to set the data frame to only contain the treatment being considered at that time\n",
    "treatment_data = last_timepoint_df.loc[(last_timepoint_df[\"Drug Regimen\"] == \"Infubinol\"),:]\n",
    "    \n",
    "    # accessing the column which contains the tumour data for that treatment and setting it as a list\n",
    "tumour_data = treatment_data[\"Tumor Volume (mm3)\"]\n",
    "    # Locate the rows which contain mice on each drug and get the tumor volumes\n",
    "tumour_data_list = tumour_data.tolist()\n",
    "    \n",
    "    # add subset \n",
    "    \n",
    "    # Determine outliers using upper and lower bounds\n",
    "    \n",
    "    \n",
    "quartiles = tumour_data.quantile([.25,.5,.75])\n",
    "lowerq = quartiles[0.25]\n",
    "upperq = quartiles[0.75]\n",
    "iqr = upperq-lowerq\n",
    "\n",
    "print(f\"The lower quartile of {treatment} is: {lowerq}\")\n",
    "print(f\"The upper quartile of {treatment} is: {upperq}\")\n",
    "print(f\"The interquartile range of {treatment} is: {iqr}\")\n",
    "print(f\"The the median of {treatment} is: {quartiles[0.5]} \")\n",
    "\n",
    "lower_bound = lowerq - (1.5*iqr)\n",
    "upper_bound = upperq + (1.5*iqr)\n",
    "print(f\"Values below {lower_bound} could be outliers for {treatment}.\")\n",
    "print(f\"Values above {upper_bound} could be outliers for {treatment}.\")\n",
    "    \n",
    "    \n",
    "outliers = treatment_data.loc[(treatment_data[\"Tumor Volume (mm3)\"] < lower_bound) | (treatment_data[\"Tumor Volume (mm3)\"] > upper_bound)][\"Tumor Volume (mm3)\"]\n",
    "    # this creates a series \n",
    "\n",
    "outliers_value =  outliers.tolist()   \n",
    "    \n",
    "if len(outliers) == 0:\n",
    "    print(f\"There are no outliers for {treatment}.\") \n",
    "elif len(outliers) == 1:\n",
    "    print(f\"There is one outlier for {treatment}. It is {outliers_value[0]}.\")\n",
    "elif len(outliers) == 2:\n",
    "    print(f\"There are two outliers for {treatment}. They are {outliers_value[0]} and {outliers_value[1]}.\")\n",
    "else:\n",
    "    print(f\"There are more than two outliers for {treatment}.\")\n",
    "    # adding the tumour data for the individul treatment to the list for plotting\n",
    "tumour_volume_data.append(tumour_data_list)\n",
    "outliers\n",
    "outlier_value"
   ]
  },
  {
   "cell_type": "code",
   "execution_count": null,
   "metadata": {},
   "outputs": [],
   "source": [
    "# Generate a box plot of the final tumor volume of each mouse across four regimens of interest\n",
    "green_diamond = dict(markerfacecolor='fuchsia', marker='o')\n",
    "fig1, ax1 = plt.subplots()\n",
    "ax1.set_title('Final Tumor Volumes Across Four Regimens')\n",
    "ax1.set_ylabel('Tumor Volume (mm3)')\n",
    "ax1.boxplot(tumour_volume_data, flierprops = green_diamond)\n",
    "ax1.set_xticklabels(treatments)\n",
    "plt.show()\n",
    "\n",
    "#tumour_volume_data holds my data so use this to create the box plot\n",
    "# it is a list (?) where each value is a list of my data\n",
    "\n",
    "\n",
    "\n",
    "#fig7, ax7 = plt.subplots()\n",
    "#ax7.set_title('Multiple Samples with Different sizes')\n",
    "#ax7.boxplot(data)\n",
    "\n"
   ]
  },
  {
   "cell_type": "markdown",
   "metadata": {},
   "source": [
    "## Line and Scatter Plots"
   ]
  },
  {
   "cell_type": "code",
   "execution_count": null,
   "metadata": {},
   "outputs": [],
   "source": [
    "# Generate a line plot of time point versus tumor volume for a mouse treated with Capomulin\n",
    "capomulin_data = clean_mouse_data.loc[(clean_mouse_data[\"Drug Regimen\"] == \"Capomulin\"), [\"Mouse ID\", \"Timepoint\", \"Tumor Volume (mm3)\"]]\n",
    "\n",
    "capomulin_data.head()\n",
    "\n",
    "#picking the first mouse s185\n",
    "s185_data_df = capomulin_data.loc[(capomulin_data[\"Mouse ID\"] == \"s185\"), [\"Timepoint\", \"Tumor Volume (mm3)\"]]\n",
    "s185_data_df\n",
    "\n",
    "graph = s185_data_df.plot(kind = \"line\", x = \"Timepoint\",  title = \"Time Point VS. Tumour Volume (Mouse ID: s185)\")\n",
    "capomulin_data.head(10)\n",
    "\n",
    "# would need to make it look nicer"
   ]
  },
  {
   "cell_type": "code",
   "execution_count": null,
   "metadata": {},
   "outputs": [],
   "source": [
    "# Generate a scatter plot of mouse weight versus average tumor volume for the Capomulin regimen\n",
    "capomulin_weight_df = clean_mouse_data.loc[(clean_mouse_data[\"Drug Regimen\"] == \"Capomulin\"), [\"Drug Regimen\", \"Weight (g)\", \"Tumor Volume (mm3)\"]]\n",
    "capomulin_weight_df\n",
    "\n",
    "group_by_weight_df = capomulin_weight_df.groupby([\"Weight (g)\"], as_index = False).mean()\n",
    "group_by_weight_df\n",
    "\n",
    "chart = group_by_weight_df.plot(kind=\"scatter\", x= \"Weight (g)\", y=\"Tumor Volume (mm3)\", grid=True, figsize=(8,8),title=\"Mouse Weight Vs. Average Tumour Volume\")\n",
    "plt.show()\n",
    "\n",
    "#need to make it look better"
   ]
  },
  {
   "cell_type": "code",
   "execution_count": null,
   "metadata": {},
   "outputs": [],
   "source": [
    "# making graph using matplotlib to see if that is better\n",
    "\n",
    "group_by_weight_df\n",
    "\n",
    "weight = group_by_weight_df.iloc[:,0]\n",
    "tumour_volume = group_by_weight_df.iloc[:,1]\n",
    "plt.scatter(weight, tumour_volume)\n",
    "plt.title(\"Mouse Weight Vs. Average Tumour Volume\")\n",
    "plt.xlabel(\"Weight (g)\")\n",
    "plt.ylabel(\"Tumor Volume (mm3)\")\n",
    "\n",
    "\n",
    "#correlation = st.pearsonr(government,life)\n",
    "#print(f\"The correlation between both factors is {round(correlation[0],2)}\")\n",
    "#plt.show()"
   ]
  },
  {
   "cell_type": "markdown",
   "metadata": {},
   "source": [
    "## Correlation and Regression"
   ]
  },
  {
   "cell_type": "code",
   "execution_count": null,
   "metadata": {},
   "outputs": [],
   "source": [
    "# Calculate the correlation coefficient and linear regression model \n",
    "# for mouse weight and average tumor volume for the Capomulin regimen\n",
    "# still considering group_by_weight_df for this\n",
    "\n",
    "# setting variables\n",
    "weight = group_by_weight_df.iloc[:,0]\n",
    "tumour_volume = group_by_weight_df.iloc[:,1]\n",
    "\n",
    "# ccorrelation\n",
    "correlation = st.pearsonr(weight,tumour_volume)\n",
    "print(f\"The correlation between both factors is {round(correlation[0],2)}\")\n",
    "\n",
    "from scipy.stats import linregress\n",
    "\n",
    "# calcualting regression\n",
    "(slope, intercept, rvalue, pvalue, stderr) = linregress(weight, tumour_volume)\n",
    "regress_values = weight * slope + intercept\n",
    "line_eq = \"y = \" + str(round(slope,2)) + \"x + \" + str(round(intercept,2))\n",
    "plt.scatter(weight, tumour_volume)\n",
    "plt.title(\"Mouse Weight Vs. Average Tumour Volume (With Regression Line)\")\n",
    "plt.xlabel(\"Weight (g)\")\n",
    "plt.ylabel(\"Tumor Volume (mm3)\")\n",
    "plt.plot(weight,regress_values,\"r-\")\n",
    "plt.annotate(line_eq,(21,40.5), fontsize=12,color=\"red\")\n",
    "plt.show()"
   ]
  },
  {
   "cell_type": "code",
   "execution_count": null,
   "metadata": {},
   "outputs": [],
   "source": []
  }
 ],
 "metadata": {
  "anaconda-cloud": {},
  "kernelspec": {
   "display_name": "Python 3",
   "language": "python",
   "name": "python3"
  },
  "language_info": {
   "codemirror_mode": {
    "name": "ipython",
    "version": 3
   },
   "file_extension": ".py",
   "mimetype": "text/x-python",
   "name": "python",
   "nbconvert_exporter": "python",
   "pygments_lexer": "ipython3",
   "version": "3.6.10"
  }
 },
 "nbformat": 4,
 "nbformat_minor": 2
}
