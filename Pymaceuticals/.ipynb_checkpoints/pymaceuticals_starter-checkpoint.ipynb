{
 "cells": [
  {
   "cell_type": "markdown",
   "metadata": {},
   "source": [
    "# Practice Notebook"
   ]
  },
  {
   "cell_type": "markdown",
   "metadata": {},
   "source": [
    "## Observations and Insights "
   ]
  },
  {
   "cell_type": "markdown",
   "metadata": {},
   "source": []
  },
  {
   "cell_type": "code",
   "execution_count": 45,
   "metadata": {},
   "outputs": [
    {
     "data": {
      "text/html": [
       "<div>\n",
       "<style scoped>\n",
       "    .dataframe tbody tr th:only-of-type {\n",
       "        vertical-align: middle;\n",
       "    }\n",
       "\n",
       "    .dataframe tbody tr th {\n",
       "        vertical-align: top;\n",
       "    }\n",
       "\n",
       "    .dataframe thead th {\n",
       "        text-align: right;\n",
       "    }\n",
       "</style>\n",
       "<table border=\"1\" class=\"dataframe\">\n",
       "  <thead>\n",
       "    <tr style=\"text-align: right;\">\n",
       "      <th></th>\n",
       "      <th>Mouse ID</th>\n",
       "      <th>Drug Regimen</th>\n",
       "      <th>Sex</th>\n",
       "      <th>Age_months</th>\n",
       "      <th>Weight (g)</th>\n",
       "      <th>Timepoint</th>\n",
       "      <th>Tumor Volume (mm3)</th>\n",
       "      <th>Metastatic Sites</th>\n",
       "    </tr>\n",
       "  </thead>\n",
       "  <tbody>\n",
       "    <tr>\n",
       "      <th>0</th>\n",
       "      <td>k403</td>\n",
       "      <td>Ramicane</td>\n",
       "      <td>Male</td>\n",
       "      <td>21</td>\n",
       "      <td>16</td>\n",
       "      <td>0</td>\n",
       "      <td>45.000000</td>\n",
       "      <td>0</td>\n",
       "    </tr>\n",
       "    <tr>\n",
       "      <th>1</th>\n",
       "      <td>k403</td>\n",
       "      <td>Ramicane</td>\n",
       "      <td>Male</td>\n",
       "      <td>21</td>\n",
       "      <td>16</td>\n",
       "      <td>5</td>\n",
       "      <td>38.825898</td>\n",
       "      <td>0</td>\n",
       "    </tr>\n",
       "    <tr>\n",
       "      <th>2</th>\n",
       "      <td>k403</td>\n",
       "      <td>Ramicane</td>\n",
       "      <td>Male</td>\n",
       "      <td>21</td>\n",
       "      <td>16</td>\n",
       "      <td>10</td>\n",
       "      <td>35.014271</td>\n",
       "      <td>1</td>\n",
       "    </tr>\n",
       "    <tr>\n",
       "      <th>3</th>\n",
       "      <td>k403</td>\n",
       "      <td>Ramicane</td>\n",
       "      <td>Male</td>\n",
       "      <td>21</td>\n",
       "      <td>16</td>\n",
       "      <td>15</td>\n",
       "      <td>34.223992</td>\n",
       "      <td>1</td>\n",
       "    </tr>\n",
       "    <tr>\n",
       "      <th>4</th>\n",
       "      <td>k403</td>\n",
       "      <td>Ramicane</td>\n",
       "      <td>Male</td>\n",
       "      <td>21</td>\n",
       "      <td>16</td>\n",
       "      <td>20</td>\n",
       "      <td>32.997729</td>\n",
       "      <td>1</td>\n",
       "    </tr>\n",
       "  </tbody>\n",
       "</table>\n",
       "</div>"
      ],
      "text/plain": [
       "  Mouse ID Drug Regimen   Sex  Age_months  Weight (g)  Timepoint  \\\n",
       "0     k403     Ramicane  Male          21          16          0   \n",
       "1     k403     Ramicane  Male          21          16          5   \n",
       "2     k403     Ramicane  Male          21          16         10   \n",
       "3     k403     Ramicane  Male          21          16         15   \n",
       "4     k403     Ramicane  Male          21          16         20   \n",
       "\n",
       "   Tumor Volume (mm3)  Metastatic Sites  \n",
       "0           45.000000                 0  \n",
       "1           38.825898                 0  \n",
       "2           35.014271                 1  \n",
       "3           34.223992                 1  \n",
       "4           32.997729                 1  "
      ]
     },
     "execution_count": 45,
     "metadata": {},
     "output_type": "execute_result"
    }
   ],
   "source": [
    "# Dependencies and Setup\n",
    "import matplotlib.pyplot as plt\n",
    "import pandas as pd\n",
    "import scipy.stats as st\n",
    "\n",
    "# Study data files\n",
    "mouse_metadata_path = \"data/Mouse_metadata.csv\"\n",
    "study_results_path = \"data/Study_results.csv\"\n",
    "\n",
    "# Read the mouse data and the study results\n",
    "mouse_metadata = pd.read_csv(mouse_metadata_path)\n",
    "study_results = pd.read_csv(study_results_path)\n",
    "\n",
    "# Combine the data into a single dataset\n",
    "mouse_study = pd.merge(mouse_metadata, study_results, how='outer', on= 'Mouse ID')\n",
    "\n",
    "# Display the data table for preview\n",
    "mouse_study.head()"
   ]
  },
  {
   "cell_type": "code",
   "execution_count": 103,
   "metadata": {},
   "outputs": [
    {
     "data": {
      "text/html": [
       "<div>\n",
       "<style scoped>\n",
       "    .dataframe tbody tr th:only-of-type {\n",
       "        vertical-align: middle;\n",
       "    }\n",
       "\n",
       "    .dataframe tbody tr th {\n",
       "        vertical-align: top;\n",
       "    }\n",
       "\n",
       "    .dataframe thead th {\n",
       "        text-align: right;\n",
       "    }\n",
       "</style>\n",
       "<table border=\"1\" class=\"dataframe\">\n",
       "  <thead>\n",
       "    <tr style=\"text-align: right;\">\n",
       "      <th></th>\n",
       "      <th>Mouse ID</th>\n",
       "      <th>Sex</th>\n",
       "      <th>Age_months</th>\n",
       "      <th>Weight (g)</th>\n",
       "      <th>Timepoint</th>\n",
       "      <th>Tumor Volume (mm3)</th>\n",
       "      <th>Metastatic Sites</th>\n",
       "    </tr>\n",
       "    <tr>\n",
       "      <th>Drug Regimen</th>\n",
       "      <th></th>\n",
       "      <th></th>\n",
       "      <th></th>\n",
       "      <th></th>\n",
       "      <th></th>\n",
       "      <th></th>\n",
       "      <th></th>\n",
       "    </tr>\n",
       "  </thead>\n",
       "  <tbody>\n",
       "    <tr>\n",
       "      <th>Capomulin</th>\n",
       "      <td>230</td>\n",
       "      <td>230</td>\n",
       "      <td>230</td>\n",
       "      <td>230</td>\n",
       "      <td>230</td>\n",
       "      <td>230</td>\n",
       "      <td>230</td>\n",
       "    </tr>\n",
       "    <tr>\n",
       "      <th>Ceftamin</th>\n",
       "      <td>178</td>\n",
       "      <td>178</td>\n",
       "      <td>178</td>\n",
       "      <td>178</td>\n",
       "      <td>178</td>\n",
       "      <td>178</td>\n",
       "      <td>178</td>\n",
       "    </tr>\n",
       "    <tr>\n",
       "      <th>Infubinol</th>\n",
       "      <td>178</td>\n",
       "      <td>178</td>\n",
       "      <td>178</td>\n",
       "      <td>178</td>\n",
       "      <td>178</td>\n",
       "      <td>178</td>\n",
       "      <td>178</td>\n",
       "    </tr>\n",
       "    <tr>\n",
       "      <th>Ketapril</th>\n",
       "      <td>188</td>\n",
       "      <td>188</td>\n",
       "      <td>188</td>\n",
       "      <td>188</td>\n",
       "      <td>188</td>\n",
       "      <td>188</td>\n",
       "      <td>188</td>\n",
       "    </tr>\n",
       "    <tr>\n",
       "      <th>Naftisol</th>\n",
       "      <td>186</td>\n",
       "      <td>186</td>\n",
       "      <td>186</td>\n",
       "      <td>186</td>\n",
       "      <td>186</td>\n",
       "      <td>186</td>\n",
       "      <td>186</td>\n",
       "    </tr>\n",
       "    <tr>\n",
       "      <th>Placebo</th>\n",
       "      <td>181</td>\n",
       "      <td>181</td>\n",
       "      <td>181</td>\n",
       "      <td>181</td>\n",
       "      <td>181</td>\n",
       "      <td>181</td>\n",
       "      <td>181</td>\n",
       "    </tr>\n",
       "    <tr>\n",
       "      <th>Propriva</th>\n",
       "      <td>161</td>\n",
       "      <td>161</td>\n",
       "      <td>161</td>\n",
       "      <td>161</td>\n",
       "      <td>161</td>\n",
       "      <td>161</td>\n",
       "      <td>161</td>\n",
       "    </tr>\n",
       "    <tr>\n",
       "      <th>Ramicane</th>\n",
       "      <td>228</td>\n",
       "      <td>228</td>\n",
       "      <td>228</td>\n",
       "      <td>228</td>\n",
       "      <td>228</td>\n",
       "      <td>228</td>\n",
       "      <td>228</td>\n",
       "    </tr>\n",
       "    <tr>\n",
       "      <th>Stelasyn</th>\n",
       "      <td>181</td>\n",
       "      <td>181</td>\n",
       "      <td>181</td>\n",
       "      <td>181</td>\n",
       "      <td>181</td>\n",
       "      <td>181</td>\n",
       "      <td>181</td>\n",
       "    </tr>\n",
       "    <tr>\n",
       "      <th>Zoniferol</th>\n",
       "      <td>182</td>\n",
       "      <td>182</td>\n",
       "      <td>182</td>\n",
       "      <td>182</td>\n",
       "      <td>182</td>\n",
       "      <td>182</td>\n",
       "      <td>182</td>\n",
       "    </tr>\n",
       "  </tbody>\n",
       "</table>\n",
       "</div>"
      ],
      "text/plain": [
       "              Mouse ID  Sex  Age_months  Weight (g)  Timepoint  \\\n",
       "Drug Regimen                                                     \n",
       "Capomulin          230  230         230         230        230   \n",
       "Ceftamin           178  178         178         178        178   \n",
       "Infubinol          178  178         178         178        178   \n",
       "Ketapril           188  188         188         188        188   \n",
       "Naftisol           186  186         186         186        186   \n",
       "Placebo            181  181         181         181        181   \n",
       "Propriva           161  161         161         161        161   \n",
       "Ramicane           228  228         228         228        228   \n",
       "Stelasyn           181  181         181         181        181   \n",
       "Zoniferol          182  182         182         182        182   \n",
       "\n",
       "              Tumor Volume (mm3)  Metastatic Sites  \n",
       "Drug Regimen                                        \n",
       "Capomulin                    230               230  \n",
       "Ceftamin                     178               178  \n",
       "Infubinol                    178               178  \n",
       "Ketapril                     188               188  \n",
       "Naftisol                     186               186  \n",
       "Placebo                      181               181  \n",
       "Propriva                     161               161  \n",
       "Ramicane                     228               228  \n",
       "Stelasyn                     181               181  \n",
       "Zoniferol                    182               182  "
      ]
     },
     "execution_count": 103,
     "metadata": {},
     "output_type": "execute_result"
    }
   ],
   "source": [
    "test = mouse_study.groupby(['Drug Regimen'])\n",
    "test.count()"
   ]
  },
  {
   "cell_type": "code",
   "execution_count": 26,
   "metadata": {},
   "outputs": [
    {
     "name": "stdout",
     "output_type": "stream",
     "text": [
      "There are 249 mice in the study.\n"
     ]
    }
   ],
   "source": [
    "# Checking the number of mice.\n",
    "\n",
    "# creating a list of mice ID's\n",
    "mouse_ids = mouse_study[\"Mouse ID\"].values\n",
    "\n",
    "# converting the list to a set of unique value\n",
    "unique_mice = set(mouse_ids)\n",
    "\n",
    "# finding its length, which is the number of unique values\n",
    "number_of_unique_mice = len(unique_mice)\n",
    "\n",
    "print(f\"There are {number_of_unique_mice} mice in the study.\")\n"
   ]
  },
  {
   "cell_type": "code",
   "execution_count": 38,
   "metadata": {},
   "outputs": [
    {
     "name": "stdout",
     "output_type": "stream",
     "text": [
      "The duplicated rows based on two columns are:\n",
      "    Mouse ID Drug Regimen     Sex  Age_months  Weight (g)  Timepoint  \\\n",
      "909     g989     Propriva  Female          21          26          0   \n",
      "911     g989     Propriva  Female          21          26          5   \n",
      "913     g989     Propriva  Female          21          26         10   \n",
      "915     g989     Propriva  Female          21          26         15   \n",
      "917     g989     Propriva  Female          21          26         20   \n",
      "\n",
      "     Tumor Volume (mm3)  Metastatic Sites  \n",
      "909           45.000000                 0  \n",
      "911           47.570392                 0  \n",
      "913           49.880528                 0  \n",
      "915           53.442020                 0  \n",
      "917           54.657650                 1  \n",
      "\n",
      "The ID number of the mouse with duplicated data is g989.\n"
     ]
    }
   ],
   "source": [
    "# Finding the duplicate mice \n",
    "# Seeing which Mouse ID numbers have duplicated Timepoint values. \n",
    "\n",
    "# obtaining the rows in the dataframe which are duplicated, by considering the two appropriate columns\n",
    "duplicate_rows = mouse_study[mouse_study.duplicated(['Mouse ID', 'Timepoint'])]\n",
    "\n",
    "print(\"The duplicated rows based on two columns are:\")\n",
    "print(f\"{duplicate_rows}\")\n",
    "print(\"\")\n",
    "\n",
    "# obtaining the ID of the mouse that has duplicated data\n",
    "mouse_duplicate_id = duplicate_rows.iloc[1,0]\n",
    "\n",
    "print(f\"The ID number of the mouse with duplicated data is {mouse_duplicate_id}.\")"
   ]
  },
  {
   "cell_type": "code",
   "execution_count": 40,
   "metadata": {},
   "outputs": [],
   "source": [
    "# Creating a clean DataFrame by dropping the duplicate mouse by its ID.\n",
    "clean_mouse_data = mouse_study.loc[mouse_study[\"Mouse ID\"] != mouse_duplicate_id, :]"
   ]
  },
  {
   "cell_type": "code",
   "execution_count": 41,
   "metadata": {},
   "outputs": [
    {
     "name": "stdout",
     "output_type": "stream",
     "text": [
      "There are 248 mice in the study after removing the mouse with duplicate data.\n"
     ]
    }
   ],
   "source": [
    "# Checking the number of mice in the clean DataFrame to ensure there is now 248.\n",
    "\n",
    "mouse_ids = clean_mouse_data[\"Mouse ID\"].values\n",
    "unique_mice = set(mouse_ids)\n",
    "number_of_unique_mice = len(unique_mice)\n",
    "print(f\"There are {number_of_unique_mice} mice in the study after removing the mouse with duplicate data.\")"
   ]
  },
  {
   "cell_type": "code",
   "execution_count": null,
   "metadata": {},
   "outputs": [],
   "source": [
    "test = mouse_study.loc[mouse_study[\"Mouse ID\"] == \"g989\"]\n",
    "test"
   ]
  },
  {
   "cell_type": "code",
   "execution_count": 18,
   "metadata": {},
   "outputs": [
    {
     "name": "stdout",
     "output_type": "stream",
     "text": [
      "Duplicate Rows based on 2 columns are:\n",
      "    Mouse ID Drug Regimen     Sex  Age_months  Weight (g)  Timepoint  \\\n",
      "909     g989     Propriva  Female          21          26          0   \n",
      "911     g989     Propriva  Female          21          26          5   \n",
      "913     g989     Propriva  Female          21          26         10   \n",
      "915     g989     Propriva  Female          21          26         15   \n",
      "917     g989     Propriva  Female          21          26         20   \n",
      "\n",
      "     Tumor Volume (mm3)  Metastatic Sites  \n",
      "909           45.000000                 0  \n",
      "911           47.570392                 0  \n",
      "913           49.880528                 0  \n",
      "915           53.442020                 0  \n",
      "917           54.657650                 1  \n",
      "The ID number of the mouse with duplicated data is g989\n"
     ]
    }
   ],
   "source": [
    "# Getting the duplicate mice by ID number that shows up for Mouse ID and Timepoint. \n",
    "\n",
    "duplicate_rows = mouse_study[mouse_study.duplicated(['Mouse ID', 'Timepoint'])]\n",
    "\n",
    "mouse_duplicate = duplicate_rows['Mouse ID']\n",
    "\n",
    "print(\"Duplicate Rows based on 2 columns are:\", duplicate_rows, sep='\\n')\n",
    "\n",
    "mouse_duplicate_id = duplicate_rows.iloc[1,0]\n",
    "\n",
    "print(f\"The ID number of the mouse with duplicated data is {mouse_duplicate_id}\")"
   ]
  },
  {
   "cell_type": "code",
   "execution_count": 20,
   "metadata": {},
   "outputs": [
    {
     "data": {
      "text/plain": [
       "909    g989\n",
       "911    g989\n",
       "913    g989\n",
       "915    g989\n",
       "917    g989\n",
       "Name: Mouse ID, dtype: object"
      ]
     },
     "execution_count": 20,
     "metadata": {},
     "output_type": "execute_result"
    }
   ],
   "source": [
    "# Optional: Get all the data for the duplicate mouse ID. \n",
    "mouse_duplicate\n"
   ]
  },
  {
   "cell_type": "code",
   "execution_count": null,
   "metadata": {},
   "outputs": [],
   "source": [
    "# Create a clean DataFrame by dropping the duplicate mouse by its ID.\n",
    "clean_mouse_data = mouse_study.loc[mouse_study[\"Mouse ID\"] != mouse_duplicate_id, :]\n",
    "clean_mouse_data"
   ]
  },
  {
   "cell_type": "code",
   "execution_count": null,
   "metadata": {},
   "outputs": [],
   "source": [
    "# Checking the number of mice in the clean DataFrame.\n",
    "\n",
    "mouse_ids = clean_mouse_data[\"Mouse ID\"].values\n",
    "unique_mice = set(mouse_ids)\n",
    "number_of_unique_mice = len(unique_mice)\n",
    "print(f\"There are {number_of_unique_mice} mice in the study after removing the mouse with duplicate data.\")"
   ]
  },
  {
   "cell_type": "markdown",
   "metadata": {},
   "source": [
    "## Summary Statistics"
   ]
  },
  {
   "cell_type": "code",
   "execution_count": 47,
   "metadata": {},
   "outputs": [
    {
     "data": {
      "text/html": [
       "<div>\n",
       "<style scoped>\n",
       "    .dataframe tbody tr th:only-of-type {\n",
       "        vertical-align: middle;\n",
       "    }\n",
       "\n",
       "    .dataframe tbody tr th {\n",
       "        vertical-align: top;\n",
       "    }\n",
       "\n",
       "    .dataframe thead th {\n",
       "        text-align: right;\n",
       "    }\n",
       "</style>\n",
       "<table border=\"1\" class=\"dataframe\">\n",
       "  <thead>\n",
       "    <tr style=\"text-align: right;\">\n",
       "      <th></th>\n",
       "      <th>Mean</th>\n",
       "      <th>Median</th>\n",
       "      <th>Mode</th>\n",
       "      <th>Variance</th>\n",
       "      <th>Standard Deviation</th>\n",
       "      <th>SEM</th>\n",
       "    </tr>\n",
       "    <tr>\n",
       "      <th>Drug Regimen</th>\n",
       "      <th></th>\n",
       "      <th></th>\n",
       "      <th></th>\n",
       "      <th></th>\n",
       "      <th></th>\n",
       "      <th></th>\n",
       "    </tr>\n",
       "  </thead>\n",
       "  <tbody>\n",
       "    <tr>\n",
       "      <th>Capomulin</th>\n",
       "      <td>40.675741</td>\n",
       "      <td>41.557809</td>\n",
       "      <td>45.0</td>\n",
       "      <td>24.947764</td>\n",
       "      <td>4.994774</td>\n",
       "      <td>0.329346</td>\n",
       "    </tr>\n",
       "    <tr>\n",
       "      <th>Ceftamin</th>\n",
       "      <td>52.591172</td>\n",
       "      <td>51.776157</td>\n",
       "      <td>45.0</td>\n",
       "      <td>39.290177</td>\n",
       "      <td>6.268188</td>\n",
       "      <td>0.469821</td>\n",
       "    </tr>\n",
       "    <tr>\n",
       "      <th>Infubinol</th>\n",
       "      <td>52.884795</td>\n",
       "      <td>51.820584</td>\n",
       "      <td>45.0</td>\n",
       "      <td>43.128684</td>\n",
       "      <td>6.567243</td>\n",
       "      <td>0.492236</td>\n",
       "    </tr>\n",
       "    <tr>\n",
       "      <th>Ketapril</th>\n",
       "      <td>55.235638</td>\n",
       "      <td>53.698743</td>\n",
       "      <td>45.0</td>\n",
       "      <td>68.553577</td>\n",
       "      <td>8.279709</td>\n",
       "      <td>0.603860</td>\n",
       "    </tr>\n",
       "    <tr>\n",
       "      <th>Naftisol</th>\n",
       "      <td>54.331565</td>\n",
       "      <td>52.509285</td>\n",
       "      <td>45.0</td>\n",
       "      <td>66.173479</td>\n",
       "      <td>8.134708</td>\n",
       "      <td>0.596466</td>\n",
       "    </tr>\n",
       "    <tr>\n",
       "      <th>Placebo</th>\n",
       "      <td>54.033581</td>\n",
       "      <td>52.288934</td>\n",
       "      <td>45.0</td>\n",
       "      <td>61.168083</td>\n",
       "      <td>7.821003</td>\n",
       "      <td>0.581331</td>\n",
       "    </tr>\n",
       "    <tr>\n",
       "      <th>Propriva</th>\n",
       "      <td>52.320930</td>\n",
       "      <td>50.446266</td>\n",
       "      <td>45.0</td>\n",
       "      <td>43.852013</td>\n",
       "      <td>6.622085</td>\n",
       "      <td>0.544332</td>\n",
       "    </tr>\n",
       "    <tr>\n",
       "      <th>Ramicane</th>\n",
       "      <td>40.216745</td>\n",
       "      <td>40.673236</td>\n",
       "      <td>45.0</td>\n",
       "      <td>23.486704</td>\n",
       "      <td>4.846308</td>\n",
       "      <td>0.320955</td>\n",
       "    </tr>\n",
       "    <tr>\n",
       "      <th>Stelasyn</th>\n",
       "      <td>54.233149</td>\n",
       "      <td>52.431737</td>\n",
       "      <td>45.0</td>\n",
       "      <td>59.450562</td>\n",
       "      <td>7.710419</td>\n",
       "      <td>0.573111</td>\n",
       "    </tr>\n",
       "    <tr>\n",
       "      <th>Zoniferol</th>\n",
       "      <td>53.236507</td>\n",
       "      <td>51.818479</td>\n",
       "      <td>45.0</td>\n",
       "      <td>48.533355</td>\n",
       "      <td>6.966589</td>\n",
       "      <td>0.516398</td>\n",
       "    </tr>\n",
       "  </tbody>\n",
       "</table>\n",
       "</div>"
      ],
      "text/plain": [
       "                   Mean     Median  Mode   Variance  Standard Deviation  \\\n",
       "Drug Regimen                                                              \n",
       "Capomulin     40.675741  41.557809  45.0  24.947764            4.994774   \n",
       "Ceftamin      52.591172  51.776157  45.0  39.290177            6.268188   \n",
       "Infubinol     52.884795  51.820584  45.0  43.128684            6.567243   \n",
       "Ketapril      55.235638  53.698743  45.0  68.553577            8.279709   \n",
       "Naftisol      54.331565  52.509285  45.0  66.173479            8.134708   \n",
       "Placebo       54.033581  52.288934  45.0  61.168083            7.821003   \n",
       "Propriva      52.320930  50.446266  45.0  43.852013            6.622085   \n",
       "Ramicane      40.216745  40.673236  45.0  23.486704            4.846308   \n",
       "Stelasyn      54.233149  52.431737  45.0  59.450562            7.710419   \n",
       "Zoniferol     53.236507  51.818479  45.0  48.533355            6.966589   \n",
       "\n",
       "                   SEM  \n",
       "Drug Regimen            \n",
       "Capomulin     0.329346  \n",
       "Ceftamin      0.469821  \n",
       "Infubinol     0.492236  \n",
       "Ketapril      0.603860  \n",
       "Naftisol      0.596466  \n",
       "Placebo       0.581331  \n",
       "Propriva      0.544332  \n",
       "Ramicane      0.320955  \n",
       "Stelasyn      0.573111  \n",
       "Zoniferol     0.516398  "
      ]
     },
     "execution_count": 47,
     "metadata": {},
     "output_type": "execute_result"
    }
   ],
   "source": [
    "# option 1\n",
    "# Generate a summary statistics table of mean, median, variance, standard deviation, and SEM of the tumor volume for each regimen\n",
    "\n",
    "# This method is the most straighforward, creating multiple series and putting them all together at the end.\n",
    "\n",
    "# grouping the mouse data by regimen\n",
    "grouped_mouse_data = clean_mouse_data.groupby(['Drug Regimen'])\n",
    "\n",
    "mean = grouped_mouse_data[\"Tumor Volume (mm3)\"].mean()\n",
    "\n",
    "median = grouped_mouse_data[\"Tumor Volume (mm3)\"].median()\n",
    "\n",
    "mode = grouped_mouse_data[\"Tumor Volume (mm3)\"].agg(pd.Series.mode)\n",
    "mode\n",
    "\n",
    "mode2 = grouped_mouse_data[\"Tumor Volume (mm3)\"].agg(lambda x:x.value_counts().index[0])\n",
    "mode2\n",
    "\n",
    "# both mode options give 45 as the mode for eerything?? not sure if this is right??\n",
    "\n",
    "variance = grouped_mouse_data[\"Tumor Volume (mm3)\"].var()\n",
    "variance\n",
    "\n",
    "standard_deviation = grouped_mouse_data[\"Tumor Volume (mm3)\"].std()\n",
    "standard_deviation\n",
    "\n",
    "sem = grouped_mouse_data[\"Tumor Volume (mm3)\"].sem()\n",
    "sem\n",
    "\n",
    "summary_mouse_df = pd.DataFrame({\"Mean\": mean,\n",
    "                                \"Median\": median,\n",
    "                                \"Mode\": mode,\n",
    "                                \"Variance\": variance,\n",
    "                                \"Standard Deviation\": standard_deviation,\n",
    "                                \"SEM\": sem})\n",
    "summary_mouse_df"
   ]
  },
  {
   "cell_type": "code",
   "execution_count": 57,
   "metadata": {},
   "outputs": [
    {
     "data": {
      "text/html": [
       "<div>\n",
       "<style scoped>\n",
       "    .dataframe tbody tr th:only-of-type {\n",
       "        vertical-align: middle;\n",
       "    }\n",
       "\n",
       "    .dataframe tbody tr th {\n",
       "        vertical-align: top;\n",
       "    }\n",
       "\n",
       "    .dataframe thead tr th {\n",
       "        text-align: left;\n",
       "    }\n",
       "\n",
       "    .dataframe thead tr:last-of-type th {\n",
       "        text-align: right;\n",
       "    }\n",
       "</style>\n",
       "<table border=\"1\" class=\"dataframe\">\n",
       "  <thead>\n",
       "    <tr>\n",
       "      <th></th>\n",
       "      <th colspan=\"6\" halign=\"left\">Tumour Volume:</th>\n",
       "    </tr>\n",
       "    <tr>\n",
       "      <th></th>\n",
       "      <th>Mean</th>\n",
       "      <th>Median</th>\n",
       "      <th>Mode</th>\n",
       "      <th>Variance</th>\n",
       "      <th>Standard Deviation</th>\n",
       "      <th>SEM</th>\n",
       "    </tr>\n",
       "    <tr>\n",
       "      <th>Drug Regimen</th>\n",
       "      <th></th>\n",
       "      <th></th>\n",
       "      <th></th>\n",
       "      <th></th>\n",
       "      <th></th>\n",
       "      <th></th>\n",
       "    </tr>\n",
       "  </thead>\n",
       "  <tbody>\n",
       "    <tr>\n",
       "      <th>Capomulin</th>\n",
       "      <td>40.675741</td>\n",
       "      <td>41.557809</td>\n",
       "      <td>45.0</td>\n",
       "      <td>24.947764</td>\n",
       "      <td>4.994774</td>\n",
       "      <td>0.329346</td>\n",
       "    </tr>\n",
       "    <tr>\n",
       "      <th>Ceftamin</th>\n",
       "      <td>52.591172</td>\n",
       "      <td>51.776157</td>\n",
       "      <td>45.0</td>\n",
       "      <td>39.290177</td>\n",
       "      <td>6.268188</td>\n",
       "      <td>0.469821</td>\n",
       "    </tr>\n",
       "    <tr>\n",
       "      <th>Infubinol</th>\n",
       "      <td>52.884795</td>\n",
       "      <td>51.820584</td>\n",
       "      <td>45.0</td>\n",
       "      <td>43.128684</td>\n",
       "      <td>6.567243</td>\n",
       "      <td>0.492236</td>\n",
       "    </tr>\n",
       "    <tr>\n",
       "      <th>Ketapril</th>\n",
       "      <td>55.235638</td>\n",
       "      <td>53.698743</td>\n",
       "      <td>45.0</td>\n",
       "      <td>68.553577</td>\n",
       "      <td>8.279709</td>\n",
       "      <td>0.603860</td>\n",
       "    </tr>\n",
       "    <tr>\n",
       "      <th>Naftisol</th>\n",
       "      <td>54.331565</td>\n",
       "      <td>52.509285</td>\n",
       "      <td>45.0</td>\n",
       "      <td>66.173479</td>\n",
       "      <td>8.134708</td>\n",
       "      <td>0.596466</td>\n",
       "    </tr>\n",
       "    <tr>\n",
       "      <th>Placebo</th>\n",
       "      <td>54.033581</td>\n",
       "      <td>52.288934</td>\n",
       "      <td>45.0</td>\n",
       "      <td>61.168083</td>\n",
       "      <td>7.821003</td>\n",
       "      <td>0.581331</td>\n",
       "    </tr>\n",
       "    <tr>\n",
       "      <th>Propriva</th>\n",
       "      <td>52.320930</td>\n",
       "      <td>50.446266</td>\n",
       "      <td>45.0</td>\n",
       "      <td>43.852013</td>\n",
       "      <td>6.622085</td>\n",
       "      <td>0.544332</td>\n",
       "    </tr>\n",
       "    <tr>\n",
       "      <th>Ramicane</th>\n",
       "      <td>40.216745</td>\n",
       "      <td>40.673236</td>\n",
       "      <td>45.0</td>\n",
       "      <td>23.486704</td>\n",
       "      <td>4.846308</td>\n",
       "      <td>0.320955</td>\n",
       "    </tr>\n",
       "    <tr>\n",
       "      <th>Stelasyn</th>\n",
       "      <td>54.233149</td>\n",
       "      <td>52.431737</td>\n",
       "      <td>45.0</td>\n",
       "      <td>59.450562</td>\n",
       "      <td>7.710419</td>\n",
       "      <td>0.573111</td>\n",
       "    </tr>\n",
       "    <tr>\n",
       "      <th>Zoniferol</th>\n",
       "      <td>53.236507</td>\n",
       "      <td>51.818479</td>\n",
       "      <td>45.0</td>\n",
       "      <td>48.533355</td>\n",
       "      <td>6.966589</td>\n",
       "      <td>0.516398</td>\n",
       "    </tr>\n",
       "  </tbody>\n",
       "</table>\n",
       "</div>"
      ],
      "text/plain": [
       "             Tumour Volume:                                                 \\\n",
       "                       Mean     Median  Mode   Variance Standard Deviation   \n",
       "Drug Regimen                                                                 \n",
       "Capomulin         40.675741  41.557809  45.0  24.947764           4.994774   \n",
       "Ceftamin          52.591172  51.776157  45.0  39.290177           6.268188   \n",
       "Infubinol         52.884795  51.820584  45.0  43.128684           6.567243   \n",
       "Ketapril          55.235638  53.698743  45.0  68.553577           8.279709   \n",
       "Naftisol          54.331565  52.509285  45.0  66.173479           8.134708   \n",
       "Placebo           54.033581  52.288934  45.0  61.168083           7.821003   \n",
       "Propriva          52.320930  50.446266  45.0  43.852013           6.622085   \n",
       "Ramicane          40.216745  40.673236  45.0  23.486704           4.846308   \n",
       "Stelasyn          54.233149  52.431737  45.0  59.450562           7.710419   \n",
       "Zoniferol         53.236507  51.818479  45.0  48.533355           6.966589   \n",
       "\n",
       "                        \n",
       "                   SEM  \n",
       "Drug Regimen            \n",
       "Capomulin     0.329346  \n",
       "Ceftamin      0.469821  \n",
       "Infubinol     0.492236  \n",
       "Ketapril      0.603860  \n",
       "Naftisol      0.596466  \n",
       "Placebo       0.581331  \n",
       "Propriva      0.544332  \n",
       "Ramicane      0.320955  \n",
       "Stelasyn      0.573111  \n",
       "Zoniferol     0.516398  "
      ]
     },
     "execution_count": 57,
     "metadata": {},
     "output_type": "execute_result"
    }
   ],
   "source": [
    "# Option 2, simpler\n",
    "# Generate a summary statistics table of mean, median, variance, standard deviation, and SEM of the tumor volume for each regimen\n",
    "\n",
    "# THIS WORKS THE BEST\n",
    "# This method produces everything in a single groupby function\n",
    "import numpy as np\n",
    "# oorrrrr\n",
    "# grouping the mouse data by regimen\n",
    "grouped_mouse_data = clean_mouse_data.groupby(['Drug Regimen'])\n",
    "\n",
    "# creating the summary dataframe by applying the specific functions to the Tumour Volume column and changing the column names\n",
    "summary = pd.DataFrame(grouped_mouse_data[\"Tumor Volume (mm3)\"].agg([np.mean, np.median, pd.Series.mode, np.var, np.std, \"sem\"])\n",
    ".rename(columns = {\"mean\":\"Mean\", \"median\":\"Median\", \"mode\":\"Mode\", \"var\":\"Variance\", \"std\":\"Standard Deviation\", \"sem\":\"SEM\"}))\n",
    "\n",
    "# adding a second index above the column names to indicate that the data is regarding tumour volume\n",
    "summary.columns = pd.MultiIndex.from_product([['Tumour Volume:'],summary.columns])\n",
    "\n",
    "summary"
   ]
  },
  {
   "cell_type": "code",
   "execution_count": 53,
   "metadata": {},
   "outputs": [
    {
     "data": {
      "text/html": [
       "<div>\n",
       "<style scoped>\n",
       "    .dataframe tbody tr th:only-of-type {\n",
       "        vertical-align: middle;\n",
       "    }\n",
       "\n",
       "    .dataframe tbody tr th {\n",
       "        vertical-align: top;\n",
       "    }\n",
       "\n",
       "    .dataframe thead th {\n",
       "        text-align: right;\n",
       "    }\n",
       "</style>\n",
       "<table border=\"1\" class=\"dataframe\">\n",
       "  <thead>\n",
       "    <tr style=\"text-align: right;\">\n",
       "      <th></th>\n",
       "      <th>Mean</th>\n",
       "      <th>Median</th>\n",
       "      <th>Mode</th>\n",
       "      <th>Variance</th>\n",
       "      <th>Standard Deviation</th>\n",
       "      <th>SEM</th>\n",
       "    </tr>\n",
       "    <tr>\n",
       "      <th>Drug Regimen</th>\n",
       "      <th></th>\n",
       "      <th></th>\n",
       "      <th></th>\n",
       "      <th></th>\n",
       "      <th></th>\n",
       "      <th></th>\n",
       "    </tr>\n",
       "  </thead>\n",
       "  <tbody>\n",
       "    <tr>\n",
       "      <th>Capomulin</th>\n",
       "      <td>40.675741</td>\n",
       "      <td>41.557809</td>\n",
       "      <td>([45.0], [25])</td>\n",
       "      <td>24.947764</td>\n",
       "      <td>4.994774</td>\n",
       "      <td>0.329346</td>\n",
       "    </tr>\n",
       "    <tr>\n",
       "      <th>Ceftamin</th>\n",
       "      <td>52.591172</td>\n",
       "      <td>51.776157</td>\n",
       "      <td>([45.0], [25])</td>\n",
       "      <td>39.290177</td>\n",
       "      <td>6.268188</td>\n",
       "      <td>0.469821</td>\n",
       "    </tr>\n",
       "    <tr>\n",
       "      <th>Infubinol</th>\n",
       "      <td>52.884795</td>\n",
       "      <td>51.820584</td>\n",
       "      <td>([45.0], [25])</td>\n",
       "      <td>43.128684</td>\n",
       "      <td>6.567243</td>\n",
       "      <td>0.492236</td>\n",
       "    </tr>\n",
       "    <tr>\n",
       "      <th>Ketapril</th>\n",
       "      <td>55.235638</td>\n",
       "      <td>53.698743</td>\n",
       "      <td>([45.0], [25])</td>\n",
       "      <td>68.553577</td>\n",
       "      <td>8.279709</td>\n",
       "      <td>0.603860</td>\n",
       "    </tr>\n",
       "    <tr>\n",
       "      <th>Naftisol</th>\n",
       "      <td>54.331565</td>\n",
       "      <td>52.509285</td>\n",
       "      <td>([45.0], [25])</td>\n",
       "      <td>66.173479</td>\n",
       "      <td>8.134708</td>\n",
       "      <td>0.596466</td>\n",
       "    </tr>\n",
       "    <tr>\n",
       "      <th>Placebo</th>\n",
       "      <td>54.033581</td>\n",
       "      <td>52.288934</td>\n",
       "      <td>([45.0], [25])</td>\n",
       "      <td>61.168083</td>\n",
       "      <td>7.821003</td>\n",
       "      <td>0.581331</td>\n",
       "    </tr>\n",
       "    <tr>\n",
       "      <th>Propriva</th>\n",
       "      <td>52.320930</td>\n",
       "      <td>50.446266</td>\n",
       "      <td>([45.0], [24])</td>\n",
       "      <td>43.852013</td>\n",
       "      <td>6.622085</td>\n",
       "      <td>0.544332</td>\n",
       "    </tr>\n",
       "    <tr>\n",
       "      <th>Ramicane</th>\n",
       "      <td>40.216745</td>\n",
       "      <td>40.673236</td>\n",
       "      <td>([45.0], [25])</td>\n",
       "      <td>23.486704</td>\n",
       "      <td>4.846308</td>\n",
       "      <td>0.320955</td>\n",
       "    </tr>\n",
       "    <tr>\n",
       "      <th>Stelasyn</th>\n",
       "      <td>54.233149</td>\n",
       "      <td>52.431737</td>\n",
       "      <td>([45.0], [24])</td>\n",
       "      <td>59.450562</td>\n",
       "      <td>7.710419</td>\n",
       "      <td>0.573111</td>\n",
       "    </tr>\n",
       "    <tr>\n",
       "      <th>Zoniferol</th>\n",
       "      <td>53.236507</td>\n",
       "      <td>51.818479</td>\n",
       "      <td>([45.0], [25])</td>\n",
       "      <td>48.533355</td>\n",
       "      <td>6.966589</td>\n",
       "      <td>0.516398</td>\n",
       "    </tr>\n",
       "  </tbody>\n",
       "</table>\n",
       "</div>"
      ],
      "text/plain": [
       "                   Mean     Median            Mode   Variance  \\\n",
       "Drug Regimen                                                    \n",
       "Capomulin     40.675741  41.557809  ([45.0], [25])  24.947764   \n",
       "Ceftamin      52.591172  51.776157  ([45.0], [25])  39.290177   \n",
       "Infubinol     52.884795  51.820584  ([45.0], [25])  43.128684   \n",
       "Ketapril      55.235638  53.698743  ([45.0], [25])  68.553577   \n",
       "Naftisol      54.331565  52.509285  ([45.0], [25])  66.173479   \n",
       "Placebo       54.033581  52.288934  ([45.0], [25])  61.168083   \n",
       "Propriva      52.320930  50.446266  ([45.0], [24])  43.852013   \n",
       "Ramicane      40.216745  40.673236  ([45.0], [25])  23.486704   \n",
       "Stelasyn      54.233149  52.431737  ([45.0], [24])  59.450562   \n",
       "Zoniferol     53.236507  51.818479  ([45.0], [25])  48.533355   \n",
       "\n",
       "              Standard Deviation       SEM  \n",
       "Drug Regimen                                \n",
       "Capomulin               4.994774  0.329346  \n",
       "Ceftamin                6.268188  0.469821  \n",
       "Infubinol               6.567243  0.492236  \n",
       "Ketapril                8.279709  0.603860  \n",
       "Naftisol                8.134708  0.596466  \n",
       "Placebo                 7.821003  0.581331  \n",
       "Propriva                6.622085  0.544332  \n",
       "Ramicane                4.846308  0.320955  \n",
       "Stelasyn                7.710419  0.573111  \n",
       "Zoniferol               6.966589  0.516398  "
      ]
     },
     "execution_count": 53,
     "metadata": {},
     "output_type": "execute_result"
    }
   ],
   "source": [
    "# another option = not as nice visually\n",
    "import numpy as np\n",
    "# grouping the mouse data by regimen\n",
    "grouped_mouse_data = clean_mouse_data.groupby(['Drug Regimen'])\n",
    "\n",
    "\n",
    "summary2 = pd.DataFrame(grouped_mouse_data[\"Tumor Volume (mm3)\"].agg([np.mean, np.median, st.mode, np.var, np.std, \"sem\"])\n",
    ".rename(columns = {\"mean\":\"Mean\", \"median\":\"Median\", \"mode\":\"Mode\", \"var\":\"Variance\", \"std\":\"Standard Deviation\", \"sem\":\"SEM\"}))\n",
    "                       \n",
    "summary2"
   ]
  },
  {
   "cell_type": "markdown",
   "metadata": {},
   "source": [
    "## Bar and Pie Charts"
   ]
  },
  {
   "cell_type": "code",
   "execution_count": 65,
   "metadata": {},
   "outputs": [
    {
     "data": {
      "image/png": "[encoded data removed]",
      "text/plain": [
       "<Figure size 576x360 with 1 Axes>"
      ]
     },
     "metadata": {
      "needs_background": "light"
     },
     "output_type": "display_data"
    }
   ],
   "source": [
    "# Generate a bar plot showing the total number of mice for each treatment throughout the course of the study using pandas. \n",
    "# Creating a dataframe that includes one occurance of each mouse, removing all but the first occuring time points\n",
    "unique_mice_df = clean_mouse_data.drop_duplicates(subset = 'Mouse ID', keep = 'first')\n",
    "\n",
    "\n",
    "# Creating a new dataframe that is grouped by 'Drug Regimen', where the columns are counted to get the number of mice\n",
    "grouped_regimen_df = unique_mice_df.groupby([\"Drug Regimen\"]).count()\n",
    "\n",
    "# Simplifying the datframe to just include the Drug Regimen index and the Mouse ID column\n",
    "mice_per_treatment = grouped_regimen_df[\"Mouse ID\"]\n",
    "\n",
    "\n",
    "# Plotting the bar chart directly from the dataframe\n",
    "mice_per_treatment_chart = mice_per_treatment.plot(kind = \"bar\", title = \"Number of Mice Per Treatment\", figsize=(8,5))\n",
    "mice_per_treatment_chart.set_ylabel(\"Number of Mice\")\n",
    "plt.tight_layout()\n",
    "\n"
   ]
  },
  {
   "cell_type": "code",
   "execution_count": 66,
   "metadata": {},
   "outputs": [
    {
     "data": {
      "image/png": "[encoded data removed]",
      "text/plain": [
       "<Figure size 432x288 with 1 Axes>"
      ]
     },
     "metadata": {
      "needs_background": "light"
     },
     "output_type": "display_data"
    }
   ],
   "source": [
    "# Generate a bar plot showing the total number of mice for each treatment throughout the course of the study using pyplot.\n",
    "# py plot is plt.bar(x axis, y axis)\n",
    "# so will need series/;lists\n",
    "# but can still base it off a table I believe\n",
    "\n",
    "# Will be obtaining data from grouped_regimen_df created above\n",
    "\n",
    "# Setting x axis as a numbered list, setting y axis as the values of the Mouse ID colunm \n",
    "x_axis = np.arange(len(grouped_regimen_df))\n",
    "y_axis = grouped_regimen_df[\"Mouse ID\"]\n",
    "\n",
    "# Creating tick locations and setting the xticks values as the index of the dataframe\n",
    "tick_locations = [value for value in x_axis]\n",
    "xticks = grouped_regimen_df.index\n",
    "\n",
    "# Plotting the chart\n",
    "plt.bar(x_axis, y_axis, align=\"center\")\n",
    "plt.xticks(tick_locations, xticks, rotation=\"vertical\")\n",
    "plt.tight_layout()\n",
    "\n",
    "# Set x limits for neatness of x axis\n",
    "plt.xlim(-0.75, len(x_axis)- 0.25)\n",
    "\n",
    "#setting a title and labels\n",
    "plt.title(\"Number of Mice Per Treatment\")\n",
    "plt.xlabel(\"Drug Regimen\")\n",
    "plt.ylabel(\"Number of Mice\")\n",
    "plt.show()\n",
    "\n"
   ]
  },
  {
   "cell_type": "code",
   "execution_count": 75,
   "metadata": {},
   "outputs": [
    {
     "data": {
      "image/png": "[encoded data removed]",
      "text/plain": [
       "<Figure size 432x288 with 1 Axes>"
      ]
     },
     "metadata": {},
     "output_type": "display_data"
    }
   ],
   "source": [
    "# Generating a pie plot showing the distribution of female versus male mice using pandas\n",
    "\n",
    "# Referencing unique_mice_df because require only one occurance of each mouse\n",
    "# Grouping the dataframe by the sex of the mice and applying a count\n",
    "grouped_by_sex_df = unique_mice_df.groupby([\"Sex\"]).count()\n",
    "\n",
    "# Simplifying the datframe to just include the 'Sex' index and the Mouse ID column\n",
    "mice_per_sex = grouped_by_sex_df[\"Mouse ID\"]\n",
    "\n",
    "# Plotting the pie chart from the dataframe\n",
    "mice_per_sex_chart = mice_per_sex.plot(kind = \"pie\", title = \"Distribution of Female Versus Male Mice\", autopct=\"%1.1f%%\")\n",
    "mice_per_sex_chart.set_ylabel(\"\")\n",
    "plt.tight_layout()\n"
   ]
  },
  {
   "cell_type": "code",
   "execution_count": 85,
   "metadata": {},
   "outputs": [
    {
     "data": {
      "image/png": "[encoded data removed]",
      "text/plain": [
       "<Figure size 432x288 with 1 Axes>"
      ]
     },
     "metadata": {},
     "output_type": "display_data"
    }
   ],
   "source": [
    "# Generating a pie plot showing the distribution of female versus male mice using pyplot\n",
    "# referencing the grouped dataframe created above\n",
    "values = grouped_by_sex_df[\"Mouse ID\"]\n",
    "labels = grouped_by_sex_df.index\n",
    "\n",
    "distribution_of_sex_chart = plt.pie(values, labels = labels, autopct=\"%1.1f%%\")\n",
    "plt.title(\"Distribution of Female Versus Male Mice\")\n",
    "plt.tight_layout()\n",
    "plt.show()\n"
   ]
  },
  {
   "cell_type": "markdown",
   "metadata": {},
   "source": [
    "## Quartiles, Outliers and Boxplots"
   ]
  },
  {
   "cell_type": "code",
   "execution_count": 87,
   "metadata": {},
   "outputs": [],
   "source": [
    "# Calculating the final tumor volume of each mouse across four of the treatment regimens:  \n",
    "# Capomulin, Ramicane, Infubinol, and Ceftamin\n",
    "\n",
    "# Adjusting the dataframe to contain the last occurance of each Mouse ID\n",
    "# This will be the last timepoint where data was recorded, and therefore the final tumour volume for each mouse\n",
    "last_timepoint_df = clean_mouse_data.drop_duplicates(subset = 'Mouse ID', keep = 'last')\n"
   ]
  },
  {
   "cell_type": "code",
   "execution_count": 101,
   "metadata": {},
   "outputs": [
    {
     "data": {
      "text/plain": [
       "9       22.050126\n",
       "19      23.343598\n",
       "29      28.484033\n",
       "39      28.430964\n",
       "49      29.128472\n",
       "          ...    \n",
       "1859    45.934712\n",
       "1862    48.710661\n",
       "1872    62.754451\n",
       "1882    65.741070\n",
       "1892    73.867845\n",
       "Name: Tumor Volume (mm3), Length: 248, dtype: float64"
      ]
     },
     "execution_count": 101,
     "metadata": {},
     "output_type": "execute_result"
    }
   ],
   "source": [
    "last_timepoint_df[\"Tumor Volume (mm3)\"]"
   ]
  },
  {
   "cell_type": "code",
   "execution_count": 90,
   "metadata": {},
   "outputs": [
    {
     "name": "stdout",
     "output_type": "stream",
     "text": [
      "\n",
      "Values below 20.70456164999999 could be outliers for Capomulin.\n",
      "Values above 51.83201549 could be outliers for Capomulin.\n",
      "There are no outliers for Capomulin.\n",
      "\n",
      "Values below 17.912664470000003 could be outliers for Ramicane.\n",
      "Values above 54.30681135 could be outliers for Ramicane.\n",
      "There are no outliers for Ramicane.\n",
      "\n",
      "Values below 36.83290494999999 could be outliers for Infubinol.\n",
      "Values above 82.74144559000001 could be outliers for Infubinol.\n",
      "There is one outlier for Infubinol. It is 36.321345799999996.\n",
      "\n",
      "Values below 25.355449580000002 could be outliers for Ceftamin.\n",
      "Values above 87.66645829999999 could be outliers for Ceftamin.\n",
      "There are no outliers for Ceftamin.\n"
     ]
    }
   ],
   "source": [
    "# Creating a list of treatments \n",
    "treatments = [\"Capomulin\", \"Ramicane\", \"Infubinol\", \"Ceftamin\"]\n",
    "\n",
    "# Creating empty list to fill with tumour vol data \n",
    "tumour_volume_data = []\n",
    "\n",
    "# Calculate the IQR and quantitatively determine if there are any potential outliers. \n",
    "\n",
    "# Looping through each treatment\n",
    "for treatment in treatments: \n",
    "    \n",
    "    # Using loc to set the data frame to only contain the treatment being considered at that time\n",
    "    treatment_data = last_timepoint_df.loc[(last_timepoint_df[\"Drug Regimen\"] == treatment),:]\n",
    "    \n",
    "    # Accessing the Tumour Volume column for that treatment and setting it as a list\n",
    "    tumour_data = treatment_data[\"Tumor Volume (mm3)\"]\n",
    "    tumour_data_list = tumour_data.tolist()\n",
    "    \n",
    "  \n",
    "    # Calculating the upper and lower bounds to check for outliers\n",
    "    quartiles = tumour_data.quantile([.25,.5,.75])\n",
    "    lowerq = quartiles[0.25]\n",
    "    upperq = quartiles[0.75]\n",
    "    iqr = upperq-lowerq\n",
    "    lower_bound = lowerq - (1.5*iqr)\n",
    "    upper_bound = upperq + (1.5*iqr)\n",
    "    \n",
    "    # Printing the upper and lower bounds\n",
    "    print(f\"\")\n",
    "    print(f\"Values below {lower_bound} could be outliers for {treatment}.\")\n",
    "    print(f\"Values above {upper_bound} could be outliers for {treatment}.\")\n",
    "    \n",
    "    # Checking for values that are outliers and setting them as a list\n",
    "    outliers = treatment_data.loc[(treatment_data[\"Tumor Volume (mm3)\"] < lower_bound) | (treatment_data[\"Tumor Volume (mm3)\"] > upper_bound)][\"Tumor Volume (mm3)\"]\n",
    "    outliers_value =  outliers.tolist()   \n",
    "    \n",
    "    # Printing the outliers if they exist, or stating there are none if they don't\n",
    "    if len(outliers) == 0:\n",
    "        print(f\"There are no outliers for {treatment}.\") \n",
    "    elif len(outliers) == 1:\n",
    "        print(f\"There is one outlier for {treatment}. It is {outliers_value[0]}.\")\n",
    "    elif len(outliers) == 2:\n",
    "        print(f\"There are two outliers for {treatment}. They are {outliers_value[0]} and {outliers_value[1]}.\")\n",
    "    else:\n",
    "        print(f\"There are more than two outliers for {treatment}.\")\n",
    "    \n",
    "    # adding the tumour data for the individul treatment to the list for plotting\n",
    "    tumour_volume_data.append(tumour_data_list)\n",
    "   \n",
    "\n",
    "\n"
   ]
  },
  {
   "cell_type": "code",
   "execution_count": 92,
   "metadata": {},
   "outputs": [
    {
     "data": {
      "image/png": "[encoded data removed]",
      "text/plain": [
       "<Figure size 432x288 with 1 Axes>"
      ]
     },
     "metadata": {
      "needs_background": "light"
     },
     "output_type": "display_data"
    }
   ],
   "source": [
    "# Generating a box plot of the final tumor volume of each mouse across four regimens of interest\n",
    "# creating a symbol for the outlier\n",
    "green_diamond = dict(markerfacecolor='fuchsia', marker='o')\n",
    "fig1, ax1 = plt.subplots()\n",
    "ax1.set_title('Final Tumor Volumes')\n",
    "ax1.set_ylabel('Tumor Volume (mm3)')\n",
    "ax1.boxplot(tumour_volume_data, flierprops = green_diamond)\n",
    "ax1.set_xticklabels(treatments)\n",
    "plt.show()\n"
   ]
  },
  {
   "cell_type": "markdown",
   "metadata": {},
   "source": [
    "## Line and Scatter Plots"
   ]
  },
  {
   "cell_type": "code",
   "execution_count": 95,
   "metadata": {},
   "outputs": [
    {
     "data": {
      "image/png": "[encoded data removed]",
      "text/plain": [
       "<Figure size 432x288 with 1 Axes>"
      ]
     },
     "metadata": {
      "needs_background": "light"
     },
     "output_type": "display_data"
    }
   ],
   "source": [
    "# Generating a line plot of time point versus tumor volume for a mouse treated with Capomulin\n",
    "\n",
    "# Adjusting the dataframe to contain only Capomulin data and the relevant columns\n",
    "capomulin_data = clean_mouse_data.loc[(clean_mouse_data[\"Drug Regimen\"] == \"Capomulin\"), [\"Mouse ID\", \"Timepoint\", \"Tumor Volume (mm3)\"]]\n",
    "\n",
    "# Looking at Mouse ID: s185, adjusting the dataframe to contain relevant information\n",
    "s185_df = capomulin_data.loc[(capomulin_data[\"Mouse ID\"] == \"s185\"), [\"Timepoint\", \"Tumor Volume (mm3)\"]]\n",
    "\n",
    "# Plotting time point vs. tumour volume for s185\n",
    "graph = s185_df.plot(kind = \"line\", x = \"Timepoint\",  title = \"Time Point VS. Tumour Volume (Mouse ID: s185)\")\n",
    "\n"
   ]
  },
  {
   "cell_type": "code",
   "execution_count": 104,
   "metadata": {},
   "outputs": [
    {
     "data": {
      "image/png": "[encoded data removed]",
      "text/plain": [
       "<Figure size 576x576 with 1 Axes>"
      ]
     },
     "metadata": {
      "needs_background": "light"
     },
     "output_type": "display_data"
    }
   ],
   "source": [
    "# Generating a scatter plot of mouse weight versus average tumor volume for the Capomulin regimen\n",
    "\n",
    "# Adjusting the dataframe to contain only Capomulin data and the relevant columns\n",
    "capomulin_weight_df = clean_mouse_data.loc[(clean_mouse_data[\"Drug Regimen\"] == \"Capomulin\"), [\"Drug Regimen\", \"Weight (g)\", \"Tumor Volume (mm3)\"]]\n",
    "\n",
    "# Grouping the dataframe by weight and finding the average tumour volume\n",
    "group_by_weight_df = capomulin_weight_df.groupby([\"Weight (g)\"], as_index = False).mean()\n",
    "\n",
    "# Plotting weight vs. average tumour volume\n",
    "chart = group_by_weight_df.plot(kind=\"scatter\", y= \"Weight (g)\", x=\"Tumor Volume (mm3)\", grid=True, figsize=(8,8),title=\"Mouse Weight Vs. Average Tumour Volume\")\n",
    "plt.show()\n"
   ]
  },
  {
   "cell_type": "code",
   "execution_count": 105,
   "metadata": {},
   "outputs": [
    {
     "data": {
      "text/plain": [
       "Text(0.5, 0, 'Tumor Volume (mm3)')"
      ]
     },
     "execution_count": 105,
     "metadata": {},
     "output_type": "execute_result"
    },
    {
     "data": {
      "image/png": "[encoded data removed]",
      "text/plain": [
       "<Figure size 432x288 with 1 Axes>"
      ]
     },
     "metadata": {
      "needs_background": "light"
     },
     "output_type": "display_data"
    }
   ],
   "source": [
    "# making graph using matplotlib to see if that is better\n",
    "\n",
    "group_by_weight_df\n",
    "\n",
    "weight = group_by_weight_df.iloc[:,0]\n",
    "tumour_volume = group_by_weight_df.iloc[:,1]\n",
    "plt.scatter(tumour_volume, weight)\n",
    "plt.title(\"Mouse Weight Vs. Average Tumour Volume\")\n",
    "plt.ylabel(\"Weight (g)\")\n",
    "plt.xlabel(\"Tumor Volume (mm3)\")\n"
   ]
  },
  {
   "cell_type": "markdown",
   "metadata": {},
   "source": [
    "## Correlation and Regression"
   ]
  },
  {
   "cell_type": "code",
   "execution_count": 111,
   "metadata": {},
   "outputs": [
    {
     "name": "stdout",
     "output_type": "stream",
     "text": [
      "The correlation between both factors is 0.95\n"
     ]
    },
    {
     "data": {
      "image/png": "[encoded data removed]",
      "text/plain": [
       "<Figure size 432x288 with 1 Axes>"
      ]
     },
     "metadata": {
      "needs_background": "light"
     },
     "output_type": "display_data"
    }
   ],
   "source": [
    "# Calculating the correlation coefficient and linear regression model \n",
    "# for mouse weight and average tumor volume for the Capomulin regimen\n",
    "\n",
    "# Using group_by_weight_df \n",
    "# Setting variables\n",
    "weight = group_by_weight_df.iloc[:,0]\n",
    "tumour_volume = group_by_weight_df.iloc[:,1]\n",
    "\n",
    "# calculating correlation\n",
    "correlation = st.pearsonr(tumour_volume, weight)\n",
    "print(f\"The correlation between both factors is {round(correlation[0],2)}\")\n",
    "\n",
    "# put this at the top\n",
    "from scipy.stats import linregress\n",
    "\n",
    "# Calculating Regression line\n",
    "(slope, intercept, rvalue, pvalue, stderr) = linregress(tumour_volume, weight)\n",
    "regress_values = tumour_volume * slope + intercept\n",
    "line_eq = \"y = \" + str(round(slope,2)) + \"x + \" + str(round(intercept,2))\n",
    "\n",
    "# Plotting the scatterplot and regression model\n",
    "plt.scatter(tumour_volume, weight)\n",
    "plt.title(\"Mouse Weight Vs. Average Tumour Volume (With Regression Line)\")\n",
    "plt.ylabel(\"Weight (g)\")\n",
    "plt.xlabel(\"Tumor Volume (mm3)\")\n",
    "plt.plot(tumour_volume,regress_values,\"r-\")\n",
    "plt.annotate(line_eq,(40,16), fontsize=12,color=\"red\")\n",
    "plt.show()\n"
   ]
  },
  {
   "cell_type": "code",
   "execution_count": null,
   "metadata": {},
   "outputs": [],
   "source": []
  }
 ],
 "metadata": {
  "anaconda-cloud": {},
  "kernelspec": {
   "display_name": "Python 3",
   "language": "python",
   "name": "python3"
  },
  "language_info": {
   "codemirror_mode": {
    "name": "ipython",
    "version": 3
   },
   "file_extension": ".py",
   "mimetype": "text/x-python",
   "name": "python",
   "nbconvert_exporter": "python",
   "pygments_lexer": "ipython3",
   "version": "3.6.10"
  }
 },
 "nbformat": 4,
 "nbformat_minor": 2
}
