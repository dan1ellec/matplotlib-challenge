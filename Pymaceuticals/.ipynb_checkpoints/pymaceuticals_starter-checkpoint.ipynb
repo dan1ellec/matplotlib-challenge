{
 "cells": [
  {
   "cell_type": "markdown",
   "metadata": {},
   "source": [
    "# Practice Notebook"
   ]
  },
  {
   "cell_type": "markdown",
   "metadata": {},
   "source": [
    "## Observations and Insights "
   ]
  },
  {
   "cell_type": "markdown",
   "metadata": {},
   "source": []
  },
  {
   "cell_type": "code",
   "execution_count": null,
   "metadata": {},
   "outputs": [],
   "source": [
    "# Dependencies and Setup\n",
    "import matplotlib.pyplot as plt\n",
    "import pandas as pd\n",
    "import scipy.stats as st\n",
    "\n",
    "# Study data files\n",
    "mouse_metadata_path = \"data/Mouse_metadata.csv\"\n",
    "study_results_path = \"data/Study_results.csv\"\n",
    "\n",
    "# Read the mouse data and the study results\n",
    "mouse_metadata = pd.read_csv(mouse_metadata_path)\n",
    "study_results = pd.read_csv(study_results_path)\n",
    "\n",
    "# Combine the data into a single dataset\n",
    "mouse_study = pd.merge(mouse_metadata, study_results, how='outer', on= 'Mouse ID')\n",
    "\n",
    "# Display the data table for preview\n",
    "mouse_study.head()"
   ]
  },
  {
   "cell_type": "code",
   "execution_count": null,
   "metadata": {},
   "outputs": [],
   "source": [
    "test = mouse_study.groupby(['Drug Regimen'])\n",
    "test.count()"
   ]
  },
  {
   "cell_type": "code",
   "execution_count": null,
   "metadata": {},
   "outputs": [],
   "source": [
    "# Checking the number of mice.\n",
    "\n",
    "# creating a list of mice ID's\n",
    "mouse_ids = mouse_study[\"Mouse ID\"].values\n",
    "\n",
    "# converting the list to a set of unique value\n",
    "unique_mice = set(mouse_ids)\n",
    "\n",
    "# finding its length, which is the number of unique values\n",
    "number_of_unique_mice = len(unique_mice)\n",
    "\n",
    "print(f\"There are {number_of_unique_mice} mice in the study.\")\n"
   ]
  },
  {
   "cell_type": "code",
   "execution_count": null,
   "metadata": {},
   "outputs": [],
   "source": [
    "# Finding the duplicate mice \n",
    "# Seeing which Mouse ID numbers have duplicated Timepoint values. \n",
    "\n",
    "# obtaining the rows in the dataframe which are duplicated, by considering the two appropriate columns\n",
    "duplicate_rows = mouse_study[mouse_study.duplicated(['Mouse ID', 'Timepoint'])]\n",
    "\n",
    "print(\"The duplicated rows based on two columns are:\")\n",
    "print(f\"{duplicate_rows}\")\n",
    "print(\"\")\n",
    "\n",
    "# obtaining the ID of the mouse that has duplicated data\n",
    "mouse_duplicate_id = duplicate_rows.iloc[1,0]\n",
    "\n",
    "print(f\"The ID number of the mouse with duplicated data is {mouse_duplicate_id}.\")"
   ]
  },
  {
   "cell_type": "code",
   "execution_count": null,
   "metadata": {},
   "outputs": [],
   "source": [
    "# Creating a clean DataFrame by dropping the duplicate mouse by its ID.\n",
    "clean_mouse_data = mouse_study.loc[mouse_study[\"Mouse ID\"] != mouse_duplicate_id, :]"
   ]
  },
  {
   "cell_type": "code",
   "execution_count": null,
   "metadata": {},
   "outputs": [],
   "source": [
    "# Checking the number of mice in the clean DataFrame to ensure there is now 248.\n",
    "\n",
    "mouse_ids = clean_mouse_data[\"Mouse ID\"].values\n",
    "unique_mice = set(mouse_ids)\n",
    "number_of_unique_mice = len(unique_mice)\n",
    "print(f\"There are {number_of_unique_mice} mice in the study after removing the mouse with duplicate data.\")"
   ]
  },
  {
   "cell_type": "code",
   "execution_count": null,
   "metadata": {},
   "outputs": [],
   "source": [
    "test = mouse_study.loc[mouse_study[\"Mouse ID\"] == \"g989\"]\n",
    "test"
   ]
  },
  {
   "cell_type": "code",
   "execution_count": null,
   "metadata": {},
   "outputs": [],
   "source": [
    "# Getting the duplicate mice by ID number that shows up for Mouse ID and Timepoint. \n",
    "\n",
    "duplicate_rows = mouse_study[mouse_study.duplicated(['Mouse ID', 'Timepoint'])]\n",
    "\n",
    "mouse_duplicate = duplicate_rows['Mouse ID']\n",
    "\n",
    "print(\"Duplicate Rows based on 2 columns are:\", duplicate_rows, sep='\\n')\n",
    "\n",
    "mouse_duplicate_id = duplicate_rows.iloc[1,0]\n",
    "\n",
    "print(f\"The ID number of the mouse with duplicated data is {mouse_duplicate_id}\")"
   ]
  },
  {
   "cell_type": "code",
   "execution_count": null,
   "metadata": {},
   "outputs": [],
   "source": [
    "# Optional: Get all the data for the duplicate mouse ID. \n",
    "mouse_duplicate\n"
   ]
  },
  {
   "cell_type": "code",
   "execution_count": null,
   "metadata": {},
   "outputs": [],
   "source": [
    "# Create a clean DataFrame by dropping the duplicate mouse by its ID.\n",
    "clean_mouse_data = mouse_study.loc[mouse_study[\"Mouse ID\"] != mouse_duplicate_id, :]\n",
    "clean_mouse_data"
   ]
  },
  {
   "cell_type": "code",
   "execution_count": null,
   "metadata": {},
   "outputs": [],
   "source": [
    "# Checking the number of mice in the clean DataFrame.\n",
    "\n",
    "mouse_ids = clean_mouse_data[\"Mouse ID\"].values\n",
    "unique_mice = set(mouse_ids)\n",
    "number_of_unique_mice = len(unique_mice)\n",
    "print(f\"There are {number_of_unique_mice} mice in the study after removing the mouse with duplicate data.\")"
   ]
  },
  {
   "cell_type": "markdown",
   "metadata": {},
   "source": [
    "## Summary Statistics"
   ]
  },
  {
   "cell_type": "code",
   "execution_count": null,
   "metadata": {},
   "outputs": [],
   "source": [
    "# option 1\n",
    "# Generate a summary statistics table of mean, median, variance, standard deviation, and SEM of the tumor volume for each regimen\n",
    "\n",
    "# This method is the most straighforward, creating multiple series and putting them all together at the end.\n",
    "\n",
    "# grouping the mouse data by regimen\n",
    "grouped_mouse_data = clean_mouse_data.groupby(['Drug Regimen'])\n",
    "\n",
    "mean = grouped_mouse_data[\"Tumor Volume (mm3)\"].mean()\n",
    "\n",
    "median = grouped_mouse_data[\"Tumor Volume (mm3)\"].median()\n",
    "\n",
    "mode = grouped_mouse_data[\"Tumor Volume (mm3)\"].agg(pd.Series.mode)\n",
    "mode\n",
    "\n",
    "mode2 = grouped_mouse_data[\"Tumor Volume (mm3)\"].agg(lambda x:x.value_counts().index[0])\n",
    "mode2\n",
    "\n",
    "# both mode options give 45 as the mode for eerything?? not sure if this is right??\n",
    "\n",
    "variance = grouped_mouse_data[\"Tumor Volume (mm3)\"].var()\n",
    "variance\n",
    "\n",
    "standard_deviation = grouped_mouse_data[\"Tumor Volume (mm3)\"].std()\n",
    "standard_deviation\n",
    "\n",
    "sem = grouped_mouse_data[\"Tumor Volume (mm3)\"].sem()\n",
    "sem\n",
    "\n",
    "summary_mouse_df = pd.DataFrame({\"Mean\": mean,\n",
    "                                \"Median\": median,\n",
    "                                \"Mode\": mode,\n",
    "                                \"Variance\": variance,\n",
    "                                \"Standard Deviation\": standard_deviation,\n",
    "                                \"SEM\": sem})\n",
    "summary_mouse_df"
   ]
  },
  {
   "cell_type": "code",
   "execution_count": null,
   "metadata": {},
   "outputs": [],
   "source": [
    "# Option 2, simpler\n",
    "# Generate a summary statistics table of mean, median, variance, standard deviation, and SEM of the tumor volume for each regimen\n",
    "\n",
    "# THIS WORKS THE BEST\n",
    "# This method produces everything in a single groupby function\n",
    "import numpy as np\n",
    "# oorrrrr\n",
    "# grouping the mouse data by regimen\n",
    "grouped_mouse_data = clean_mouse_data.groupby(['Drug Regimen'])\n",
    "\n",
    "# creating the summary dataframe by applying the specific functions to the Tumour Volume column and changing the column names\n",
    "summary = pd.DataFrame(grouped_mouse_data[\"Tumor Volume (mm3)\"].agg([np.mean, np.median, pd.Series.mode, np.var, np.std, \"sem\"])\n",
    ".rename(columns = {\"mean\":\"Mean\", \"median\":\"Median\", \"mode\":\"Mode\", \"var\":\"Variance\", \"std\":\"Standard Deviation\", \"sem\":\"SEM\"}))\n",
    "\n",
    "# adding a second index above the column names to indicate that the data is regarding tumour volume\n",
    "summary.columns = pd.MultiIndex.from_product([['Tumour Volume:'],summary.columns])\n",
    "\n",
    "summary"
   ]
  },
  {
   "cell_type": "code",
   "execution_count": null,
   "metadata": {},
   "outputs": [],
   "source": [
    "# another option = not as nice visually\n",
    "import numpy as np\n",
    "# grouping the mouse data by regimen\n",
    "grouped_mouse_data = clean_mouse_data.groupby(['Drug Regimen'])\n",
    "\n",
    "\n",
    "summary2 = pd.DataFrame(grouped_mouse_data[\"Tumor Volume (mm3)\"].agg([np.mean, np.median, st.mode, np.var, np.std, \"sem\"])\n",
    ".rename(columns = {\"mean\":\"Mean\", \"median\":\"Median\", \"mode\":\"Mode\", \"var\":\"Variance\", \"std\":\"Standard Deviation\", \"sem\":\"SEM\"}))\n",
    "                       \n",
    "summary2"
   ]
  },
  {
   "cell_type": "markdown",
   "metadata": {},
   "source": [
    "## Bar and Pie Charts"
   ]
  },
  {
   "cell_type": "code",
   "execution_count": null,
   "metadata": {},
   "outputs": [],
   "source": [
    "# Generate a bar plot showing the total number of mice for each treatment throughout the course of the study using pandas. \n",
    "# Creating a dataframe that includes one occurance of each mouse, removing all but the first occuring time points\n",
    "unique_mice_df = clean_mouse_data.drop_duplicates(subset = 'Mouse ID', keep = 'first')\n",
    "\n",
    "\n",
    "# Creating a new dataframe that is grouped by 'Drug Regimen', where the columns are counted to get the number of mice\n",
    "grouped_regimen_df = unique_mice_df.groupby([\"Drug Regimen\"]).count()\n",
    "\n",
    "# Simplifying the datframe to just include the Drug Regimen index and the Mouse ID column\n",
    "mice_per_treatment = grouped_regimen_df[\"Mouse ID\"]\n",
    "\n",
    "\n",
    "# Plotting the bar chart directly from the dataframe\n",
    "mice_per_treatment_chart = mice_per_treatment.plot(kind = \"bar\", title = \"Number of Mice Per Treatment\", figsize=(8,5))\n",
    "mice_per_treatment_chart.set_ylabel(\"Number of Mice\")\n",
    "plt.tight_layout()\n",
    "\n"
   ]
  },
  {
   "cell_type": "code",
   "execution_count": null,
   "metadata": {},
   "outputs": [],
   "source": [
    "# Generate a bar plot showing the total number of mice for each treatment throughout the course of the study using pyplot.\n",
    "# py plot is plt.bar(x axis, y axis)\n",
    "# so will need series/;lists\n",
    "# but can still base it off a table I believe\n",
    "\n",
    "# Will be obtaining data from grouped_regimen_df created above\n",
    "\n",
    "# Setting x axis as a numbered list, setting y axis as the values of the Mouse ID colunm \n",
    "x_axis = np.arange(len(grouped_regimen_df))\n",
    "y_axis = grouped_regimen_df[\"Mouse ID\"]\n",
    "\n",
    "# Creating tick locations and setting the xticks values as the index of the dataframe\n",
    "tick_locations = [value for value in x_axis]\n",
    "xticks = grouped_regimen_df.index\n",
    "\n",
    "# Plotting the chart\n",
    "plt.bar(x_axis, y_axis, align=\"center\")\n",
    "plt.xticks(tick_locations, xticks, rotation=\"vertical\")\n",
    "plt.tight_layout()\n",
    "\n",
    "# Set x limits for neatness of x axis\n",
    "plt.xlim(-0.75, len(x_axis)- 0.25)\n",
    "\n",
    "#setting a title and labels\n",
    "plt.title(\"Number of Mice Per Treatment\")\n",
    "plt.xlabel(\"Drug Regimen\")\n",
    "plt.ylabel(\"Number of Mice\")\n",
    "plt.show()\n",
    "\n"
   ]
  },
  {
   "cell_type": "code",
   "execution_count": null,
   "metadata": {},
   "outputs": [],
   "source": [
    "# Generating a pie plot showing the distribution of female versus male mice using pandas\n",
    "\n",
    "# Referencing unique_mice_df because require only one occurance of each mouse\n",
    "# Grouping the dataframe by the sex of the mice and applying a count\n",
    "grouped_by_sex_df = unique_mice_df.groupby([\"Sex\"]).count()\n",
    "\n",
    "# Simplifying the datframe to just include the 'Sex' index and the Mouse ID column\n",
    "mice_per_sex = grouped_by_sex_df[\"Mouse ID\"]\n",
    "\n",
    "# Plotting the pie chart from the dataframe\n",
    "mice_per_sex_chart = mice_per_sex.plot(kind = \"pie\", title = \"Distribution of Female Versus Male Mice\", autopct=\"%1.1f%%\")\n",
    "mice_per_sex_chart.set_ylabel(\"\")\n",
    "plt.tight_layout()\n"
   ]
  },
  {
   "cell_type": "code",
   "execution_count": null,
   "metadata": {},
   "outputs": [],
   "source": [
    "# Generating a pie plot showing the distribution of female versus male mice using pyplot\n",
    "# referencing the grouped dataframe created above\n",
    "values = grouped_by_sex_df[\"Mouse ID\"]\n",
    "labels = grouped_by_sex_df.index\n",
    "\n",
    "distribution_of_sex_chart = plt.pie(values, labels = labels, autopct=\"%1.1f%%\")\n",
    "plt.title(\"Distribution of Female Versus Male Mice\")\n",
    "plt.tight_layout()\n",
    "plt.show()\n"
   ]
  },
  {
   "cell_type": "markdown",
   "metadata": {},
   "source": [
    "## Quartiles, Outliers and Boxplots"
   ]
  },
  {
   "cell_type": "code",
   "execution_count": null,
   "metadata": {},
   "outputs": [],
   "source": [
    "# Calculating the final tumor volume of each mouse across four of the treatment regimens:  \n",
    "# Capomulin, Ramicane, Infubinol, and Ceftamin\n",
    "\n",
    "# Adjusting the dataframe to contain the last occurance of each Mouse ID\n",
    "# This will be the last timepoint where data was recorded, and therefore the final tumour volume for each mouse\n",
    "last_timepoint_df = clean_mouse_data.drop_duplicates(subset = 'Mouse ID', keep = 'last')\n"
   ]
  },
  {
   "cell_type": "code",
   "execution_count": null,
   "metadata": {},
   "outputs": [],
   "source": [
    "last_timepoint_df[\"Tumor Volume (mm3)\"]"
   ]
  },
  {
   "cell_type": "code",
   "execution_count": null,
   "metadata": {},
   "outputs": [],
   "source": [
    "# Creating a list of treatments \n",
    "treatments = [\"Capomulin\", \"Ramicane\", \"Infubinol\", \"Ceftamin\"]\n",
    "\n",
    "# Creating empty list to fill with tumour vol data \n",
    "tumour_volume_data = []\n",
    "\n",
    "# Calculate the IQR and quantitatively determine if there are any potential outliers. \n",
    "\n",
    "# Looping through each treatment\n",
    "for treatment in treatments: \n",
    "    \n",
    "    # Using loc to set the data frame to only contain the treatment being considered at that time\n",
    "    treatment_data = last_timepoint_df.loc[(last_timepoint_df[\"Drug Regimen\"] == treatment),:]\n",
    "    \n",
    "    # Accessing the Tumour Volume column for that treatment and setting it as a list\n",
    "    tumour_data = treatment_data[\"Tumor Volume (mm3)\"]\n",
    "    tumour_data_list = tumour_data.tolist()\n",
    "    \n",
    "  \n",
    "    # Calculating the upper and lower bounds to check for outliers\n",
    "    quartiles = tumour_data.quantile([.25,.5,.75])\n",
    "    lowerq = quartiles[0.25]\n",
    "    upperq = quartiles[0.75]\n",
    "    iqr = upperq-lowerq\n",
    "    lower_bound = lowerq - (1.5*iqr)\n",
    "    upper_bound = upperq + (1.5*iqr)\n",
    "    \n",
    "    # Printing the upper and lower bounds\n",
    "    print(f\"\")\n",
    "    print(f\"Values below {lower_bound} could be outliers for {treatment}.\")\n",
    "    print(f\"Values above {upper_bound} could be outliers for {treatment}.\")\n",
    "    \n",
    "    # Checking for values that are outliers and setting them as a list\n",
    "    outliers = treatment_data.loc[(treatment_data[\"Tumor Volume (mm3)\"] < lower_bound) | (treatment_data[\"Tumor Volume (mm3)\"] > upper_bound)][\"Tumor Volume (mm3)\"]\n",
    "    outliers_value =  outliers.tolist()   \n",
    "    \n",
    "    # Printing the outliers if they exist, or stating there are none if they don't\n",
    "    if len(outliers) == 0:\n",
    "        print(f\"There are no outliers for {treatment}.\") \n",
    "    elif len(outliers) == 1:\n",
    "        print(f\"There is one outlier for {treatment}. It is {outliers_value[0]}.\")\n",
    "    elif len(outliers) == 2:\n",
    "        print(f\"There are two outliers for {treatment}. They are {outliers_value[0]} and {outliers_value[1]}.\")\n",
    "    else:\n",
    "        print(f\"There are more than two outliers for {treatment}.\")\n",
    "    \n",
    "    # adding the tumour data for the individul treatment to the list for plotting\n",
    "    tumour_volume_data.append(tumour_data_list)\n",
    "   \n",
    "\n",
    "\n"
   ]
  },
  {
   "cell_type": "code",
   "execution_count": null,
   "metadata": {},
   "outputs": [],
   "source": [
    "# Generating a box plot of the final tumor volume of each mouse across four regimens of interest\n",
    "# creating a symbol for the outlier\n",
    "green_diamond = dict(markerfacecolor='fuchsia', marker='o')\n",
    "fig1, ax1 = plt.subplots()\n",
    "ax1.set_title('Final Tumor Volumes')\n",
    "ax1.set_ylabel('Tumor Volume (mm3)')\n",
    "ax1.boxplot(tumour_volume_data, flierprops = green_diamond)\n",
    "ax1.set_xticklabels(treatments)\n",
    "plt.show()\n"
   ]
  },
  {
   "cell_type": "markdown",
   "metadata": {},
   "source": [
    "## Line and Scatter Plots"
   ]
  },
  {
   "cell_type": "code",
   "execution_count": null,
   "metadata": {},
   "outputs": [],
   "source": [
    "# Generating a line plot of time point versus tumor volume for a mouse treated with Capomulin\n",
    "\n",
    "# Adjusting the dataframe to contain only Capomulin data and the relevant columns\n",
    "capomulin_data = clean_mouse_data.loc[(clean_mouse_data[\"Drug Regimen\"] == \"Capomulin\"), [\"Mouse ID\", \"Timepoint\", \"Tumor Volume (mm3)\"]]\n",
    "\n",
    "# Looking at Mouse ID: s185, adjusting the dataframe to contain relevant information\n",
    "s185_df = capomulin_data.loc[(capomulin_data[\"Mouse ID\"] == \"s185\"), [\"Timepoint\", \"Tumor Volume (mm3)\"]]\n",
    "\n",
    "# Plotting time point vs. tumour volume for s185\n",
    "graph = s185_df.plot(kind = \"line\", x = \"Timepoint\",  title = \"Time Point VS. Tumour Volume (Mouse ID: s185)\")\n",
    "\n"
   ]
  },
  {
   "cell_type": "code",
   "execution_count": null,
   "metadata": {},
   "outputs": [],
   "source": [
    "# Generating a scatter plot of mouse weight versus average tumor volume for the Capomulin regimen\n",
    "\n",
    "# Adjusting the dataframe to contain only Capomulin data and the relevant columns\n",
    "capomulin_weight_df = clean_mouse_data.loc[(clean_mouse_data[\"Drug Regimen\"] == \"Capomulin\"), [\"Drug Regimen\", \"Weight (g)\", \"Tumor Volume (mm3)\"]]\n",
    "\n",
    "# Grouping the dataframe by weight and finding the average tumour volume\n",
    "group_by_weight_df = capomulin_weight_df.groupby([\"Weight (g)\"], as_index = False).mean()\n",
    "\n",
    "# Plotting weight vs. average tumour volume\n",
    "chart = group_by_weight_df.plot(kind=\"scatter\", y= \"Weight (g)\", x=\"Tumor Volume (mm3)\", grid=True, figsize=(8,8),title=\"Mouse Weight Vs. Average Tumour Volume\")\n",
    "plt.show()\n"
   ]
  },
  {
   "cell_type": "code",
   "execution_count": null,
   "metadata": {},
   "outputs": [],
   "source": [
    "# making graph using matplotlib to see if that is better\n",
    "\n",
    "group_by_weight_df\n",
    "\n",
    "weight = group_by_weight_df.iloc[:,0]\n",
    "tumour_volume = group_by_weight_df.iloc[:,1]\n",
    "plt.scatter(tumour_volume, weight)\n",
    "plt.title(\"Mouse Weight Vs. Average Tumour Volume\")\n",
    "plt.ylabel(\"Weight (g)\")\n",
    "plt.xlabel(\"Tumor Volume (mm3)\")\n"
   ]
  },
  {
   "cell_type": "markdown",
   "metadata": {},
   "source": [
    "## Correlation and Regression"
   ]
  },
  {
   "cell_type": "code",
   "execution_count": null,
   "metadata": {},
   "outputs": [],
   "source": [
    "# Calculating the correlation coefficient and linear regression model \n",
    "# for mouse weight and average tumor volume for the Capomulin regimen\n",
    "\n",
    "# Using group_by_weight_df \n",
    "# Setting variables\n",
    "weight = group_by_weight_df.iloc[:,0]\n",
    "tumour_volume = group_by_weight_df.iloc[:,1]\n",
    "\n",
    "# calculating correlation\n",
    "correlation = st.pearsonr(tumour_volume, weight)\n",
    "print(f\"The correlation between both factors is {round(correlation[0],2)}\")\n",
    "\n",
    "# put this at the top\n",
    "from scipy.stats import linregress\n",
    "\n",
    "# Calculating Regression line\n",
    "(slope, intercept, rvalue, pvalue, stderr) = linregress(tumour_volume, weight)\n",
    "regress_values = tumour_volume * slope + intercept\n",
    "line_eq = \"y = \" + str(round(slope,2)) + \"x + \" + str(round(intercept,2))\n",
    "\n",
    "# Plotting the scatterplot and regression model\n",
    "plt.scatter(tumour_volume, weight)\n",
    "plt.title(\"Mouse Weight Vs. Average Tumour Volume (With Regression Line)\")\n",
    "plt.ylabel(\"Weight (g)\")\n",
    "plt.xlabel(\"Tumor Volume (mm3)\")\n",
    "plt.plot(tumour_volume,regress_values,\"r-\")\n",
    "plt.annotate(line_eq,(40,16), fontsize=12,color=\"red\")\n",
    "plt.show()\n"
   ]
  },
  {
   "cell_type": "code",
   "execution_count": null,
   "metadata": {},
   "outputs": [],
   "source": []
  }
 ],
 "metadata": {
  "anaconda-cloud": {},
  "kernelspec": {
   "display_name": "Python 3",
   "language": "python",
   "name": "python3"
  },
  "language_info": {
   "codemirror_mode": {
    "name": "ipython",
    "version": 3
   },
   "file_extension": ".py",
   "mimetype": "text/x-python",
   "name": "python",
   "nbconvert_exporter": "python",
   "pygments_lexer": "ipython3",
   "version": "3.6.10"
  }
 },
 "nbformat": 4,
 "nbformat_minor": 2
}
