{
 "cells": [
  {
   "cell_type": "markdown",
   "metadata": {},
   "source": [
    "## Observations and Insights"
   ]
  },
  {
   "cell_type": "code",
   "execution_count": null,
   "metadata": {},
   "outputs": [],
   "source": [
    "# to check\n",
    "# not sure how to change figure size. of graphs\n",
    "# also should I put the %matplotlib notebook thing at the top?? maybe that will make them look nicer\n"
   ]
  },
  {
   "cell_type": "code",
   "execution_count": null,
   "metadata": {},
   "outputs": [],
   "source": []
  },
  {
   "cell_type": "markdown",
   "metadata": {},
   "source": [
    "## Retrieving and Cleaning the Data"
   ]
  },
  {
   "cell_type": "code",
   "execution_count": 8,
   "metadata": {},
   "outputs": [
    {
     "data": {
      "text/html": [
       "<div>\n",
       "<style scoped>\n",
       "    .dataframe tbody tr th:only-of-type {\n",
       "        vertical-align: middle;\n",
       "    }\n",
       "\n",
       "    .dataframe tbody tr th {\n",
       "        vertical-align: top;\n",
       "    }\n",
       "\n",
       "    .dataframe thead th {\n",
       "        text-align: right;\n",
       "    }\n",
       "</style>\n",
       "<table border=\"1\" class=\"dataframe\">\n",
       "  <thead>\n",
       "    <tr style=\"text-align: right;\">\n",
       "      <th></th>\n",
       "      <th>Mouse ID</th>\n",
       "      <th>Drug Regimen</th>\n",
       "      <th>Sex</th>\n",
       "      <th>Age_months</th>\n",
       "      <th>Weight (g)</th>\n",
       "      <th>Timepoint</th>\n",
       "      <th>Tumor Volume (mm3)</th>\n",
       "      <th>Metastatic Sites</th>\n",
       "    </tr>\n",
       "  </thead>\n",
       "  <tbody>\n",
       "    <tr>\n",
       "      <th>0</th>\n",
       "      <td>k403</td>\n",
       "      <td>Ramicane</td>\n",
       "      <td>Male</td>\n",
       "      <td>21</td>\n",
       "      <td>16</td>\n",
       "      <td>0</td>\n",
       "      <td>45.000000</td>\n",
       "      <td>0</td>\n",
       "    </tr>\n",
       "    <tr>\n",
       "      <th>1</th>\n",
       "      <td>k403</td>\n",
       "      <td>Ramicane</td>\n",
       "      <td>Male</td>\n",
       "      <td>21</td>\n",
       "      <td>16</td>\n",
       "      <td>5</td>\n",
       "      <td>38.825898</td>\n",
       "      <td>0</td>\n",
       "    </tr>\n",
       "    <tr>\n",
       "      <th>2</th>\n",
       "      <td>k403</td>\n",
       "      <td>Ramicane</td>\n",
       "      <td>Male</td>\n",
       "      <td>21</td>\n",
       "      <td>16</td>\n",
       "      <td>10</td>\n",
       "      <td>35.014271</td>\n",
       "      <td>1</td>\n",
       "    </tr>\n",
       "    <tr>\n",
       "      <th>3</th>\n",
       "      <td>k403</td>\n",
       "      <td>Ramicane</td>\n",
       "      <td>Male</td>\n",
       "      <td>21</td>\n",
       "      <td>16</td>\n",
       "      <td>15</td>\n",
       "      <td>34.223992</td>\n",
       "      <td>1</td>\n",
       "    </tr>\n",
       "    <tr>\n",
       "      <th>4</th>\n",
       "      <td>k403</td>\n",
       "      <td>Ramicane</td>\n",
       "      <td>Male</td>\n",
       "      <td>21</td>\n",
       "      <td>16</td>\n",
       "      <td>20</td>\n",
       "      <td>32.997729</td>\n",
       "      <td>1</td>\n",
       "    </tr>\n",
       "  </tbody>\n",
       "</table>\n",
       "</div>"
      ],
      "text/plain": [
       "  Mouse ID Drug Regimen   Sex  Age_months  Weight (g)  Timepoint  \\\n",
       "0     k403     Ramicane  Male          21          16          0   \n",
       "1     k403     Ramicane  Male          21          16          5   \n",
       "2     k403     Ramicane  Male          21          16         10   \n",
       "3     k403     Ramicane  Male          21          16         15   \n",
       "4     k403     Ramicane  Male          21          16         20   \n",
       "\n",
       "   Tumor Volume (mm3)  Metastatic Sites  \n",
       "0           45.000000                 0  \n",
       "1           38.825898                 0  \n",
       "2           35.014271                 1  \n",
       "3           34.223992                 1  \n",
       "4           32.997729                 1  "
      ]
     },
     "execution_count": 8,
     "metadata": {},
     "output_type": "execute_result"
    }
   ],
   "source": [
    "# Dependencies and Setup\n",
    "import matplotlib.pyplot as plt\n",
    "import pandas as pd\n",
    "import scipy.stats as st\n",
    "#from scipy.stats import linregress\n",
    "# not sure if need ?? once didn't work then did so ???\n",
    "import numpy as np\n",
    "\n",
    "# Retrieving data files\n",
    "mouse_metadata_path = \"Pymaceuticals/data/Mouse_metadata.csv\"\n",
    "study_results_path = \"Pymaceuticals/data/Study_results.csv\"\n",
    "\n",
    "# Reading in the mouse data and the study results\n",
    "mouse_metadata = pd.read_csv(mouse_metadata_path)\n",
    "study_results = pd.read_csv(study_results_path)\n",
    "\n",
    "# Combining the data into a single dataset\n",
    "mouse_study = pd.merge(mouse_metadata, study_results, how='outer', on= 'Mouse ID')\n",
    "\n",
    "# Displaying the data table for preview\n",
    "mouse_study.head()"
   ]
  },
  {
   "cell_type": "code",
   "execution_count": 9,
   "metadata": {},
   "outputs": [
    {
     "name": "stdout",
     "output_type": "stream",
     "text": [
      "There are 249 mice in the study.\n"
     ]
    }
   ],
   "source": [
    "# Counting the number of mice before checking for duplicate data\n",
    "\n",
    "# creating a list of mice ID's\n",
    "mouse_ids = mouse_study[\"Mouse ID\"].values\n",
    "\n",
    "# converting the list to a set of unique value\n",
    "unique_mice = set(mouse_ids)\n",
    "\n",
    "# finding its length, which is the number of unique values\n",
    "number_of_unique_mice = len(unique_mice)\n",
    "\n",
    "print(f\"There are {number_of_unique_mice} mice in the study.\")"
   ]
  },
  {
   "cell_type": "code",
   "execution_count": 10,
   "metadata": {},
   "outputs": [
    {
     "name": "stdout",
     "output_type": "stream",
     "text": [
      "The duplicated rows based on two columns are:\n",
      "    Mouse ID Drug Regimen     Sex  Age_months  Weight (g)  Timepoint  \\\n",
      "909     g989     Propriva  Female          21          26          0   \n",
      "911     g989     Propriva  Female          21          26          5   \n",
      "913     g989     Propriva  Female          21          26         10   \n",
      "915     g989     Propriva  Female          21          26         15   \n",
      "917     g989     Propriva  Female          21          26         20   \n",
      "\n",
      "     Tumor Volume (mm3)  Metastatic Sites  \n",
      "909           45.000000                 0  \n",
      "911           47.570392                 0  \n",
      "913           49.880528                 0  \n",
      "915           53.442020                 0  \n",
      "917           54.657650                 1  \n",
      "\n",
      "The ID number of the mouse with duplicated data is g989.\n"
     ]
    }
   ],
   "source": [
    "# Finding duplicate mice by checking which Mouse ID numbers have duplicated Timepoint values. \n",
    "\n",
    "# Obtaining the rows in the dataframe which are duplicated, by considering the two appropriate columns\n",
    "duplicate_rows = mouse_study[mouse_study.duplicated(['Mouse ID', 'Timepoint'])]\n",
    "\n",
    "print(\"The duplicated rows based on two columns are:\")\n",
    "print(f\"{duplicate_rows}\")\n",
    "print(\"\")\n",
    "\n",
    "# obtaining the ID of the mouse that has duplicated data\n",
    "mouse_duplicate_id = duplicate_rows.iloc[1,0]\n",
    "\n",
    "print(f\"The ID number of the mouse with duplicated data is {mouse_duplicate_id}.\")"
   ]
  },
  {
   "cell_type": "code",
   "execution_count": 11,
   "metadata": {},
   "outputs": [
    {
     "name": "stdout",
     "output_type": "stream",
     "text": [
      "There are 248 mice in the study after removing the mouse with duplicated data.\n"
     ]
    }
   ],
   "source": [
    "# Creating a clean DataFrame by dropping the duplicate mouse by its ID.\n",
    "clean_mouse_data = mouse_study.loc[mouse_study[\"Mouse ID\"] != mouse_duplicate_id, :]\n",
    "\n",
    "# Checking the number of mice in the clean DataFrame to ensure there is now 248 unique mice.\n",
    "mouse_ids = clean_mouse_data[\"Mouse ID\"].values\n",
    "unique_mice = set(mouse_ids)\n",
    "number_of_unique_mice = len(unique_mice)\n",
    "print(f\"There are {number_of_unique_mice} mice in the study after removing the mouse with duplicated data.\")"
   ]
  },
  {
   "cell_type": "markdown",
   "metadata": {},
   "source": [
    "## Summary Statistics"
   ]
  },
  {
   "cell_type": "code",
   "execution_count": 12,
   "metadata": {},
   "outputs": [
    {
     "data": {
      "text/html": [
       "<div>\n",
       "<style scoped>\n",
       "    .dataframe tbody tr th:only-of-type {\n",
       "        vertical-align: middle;\n",
       "    }\n",
       "\n",
       "    .dataframe tbody tr th {\n",
       "        vertical-align: top;\n",
       "    }\n",
       "\n",
       "    .dataframe thead tr th {\n",
       "        text-align: left;\n",
       "    }\n",
       "\n",
       "    .dataframe thead tr:last-of-type th {\n",
       "        text-align: right;\n",
       "    }\n",
       "</style>\n",
       "<table border=\"1\" class=\"dataframe\">\n",
       "  <thead>\n",
       "    <tr>\n",
       "      <th></th>\n",
       "      <th colspan=\"6\" halign=\"left\">Tumour Volume:</th>\n",
       "    </tr>\n",
       "    <tr>\n",
       "      <th></th>\n",
       "      <th>Mean</th>\n",
       "      <th>Median</th>\n",
       "      <th>Mode</th>\n",
       "      <th>Variance</th>\n",
       "      <th>Standard Deviation</th>\n",
       "      <th>SEM</th>\n",
       "    </tr>\n",
       "    <tr>\n",
       "      <th>Drug Regimen</th>\n",
       "      <th></th>\n",
       "      <th></th>\n",
       "      <th></th>\n",
       "      <th></th>\n",
       "      <th></th>\n",
       "      <th></th>\n",
       "    </tr>\n",
       "  </thead>\n",
       "  <tbody>\n",
       "    <tr>\n",
       "      <th>Capomulin</th>\n",
       "      <td>40.675741</td>\n",
       "      <td>41.557809</td>\n",
       "      <td>45.0</td>\n",
       "      <td>24.947764</td>\n",
       "      <td>4.994774</td>\n",
       "      <td>0.329346</td>\n",
       "    </tr>\n",
       "    <tr>\n",
       "      <th>Ceftamin</th>\n",
       "      <td>52.591172</td>\n",
       "      <td>51.776157</td>\n",
       "      <td>45.0</td>\n",
       "      <td>39.290177</td>\n",
       "      <td>6.268188</td>\n",
       "      <td>0.469821</td>\n",
       "    </tr>\n",
       "    <tr>\n",
       "      <th>Infubinol</th>\n",
       "      <td>52.884795</td>\n",
       "      <td>51.820584</td>\n",
       "      <td>45.0</td>\n",
       "      <td>43.128684</td>\n",
       "      <td>6.567243</td>\n",
       "      <td>0.492236</td>\n",
       "    </tr>\n",
       "    <tr>\n",
       "      <th>Ketapril</th>\n",
       "      <td>55.235638</td>\n",
       "      <td>53.698743</td>\n",
       "      <td>45.0</td>\n",
       "      <td>68.553577</td>\n",
       "      <td>8.279709</td>\n",
       "      <td>0.603860</td>\n",
       "    </tr>\n",
       "    <tr>\n",
       "      <th>Naftisol</th>\n",
       "      <td>54.331565</td>\n",
       "      <td>52.509285</td>\n",
       "      <td>45.0</td>\n",
       "      <td>66.173479</td>\n",
       "      <td>8.134708</td>\n",
       "      <td>0.596466</td>\n",
       "    </tr>\n",
       "    <tr>\n",
       "      <th>Placebo</th>\n",
       "      <td>54.033581</td>\n",
       "      <td>52.288934</td>\n",
       "      <td>45.0</td>\n",
       "      <td>61.168083</td>\n",
       "      <td>7.821003</td>\n",
       "      <td>0.581331</td>\n",
       "    </tr>\n",
       "    <tr>\n",
       "      <th>Propriva</th>\n",
       "      <td>52.320930</td>\n",
       "      <td>50.446266</td>\n",
       "      <td>45.0</td>\n",
       "      <td>43.852013</td>\n",
       "      <td>6.622085</td>\n",
       "      <td>0.544332</td>\n",
       "    </tr>\n",
       "    <tr>\n",
       "      <th>Ramicane</th>\n",
       "      <td>40.216745</td>\n",
       "      <td>40.673236</td>\n",
       "      <td>45.0</td>\n",
       "      <td>23.486704</td>\n",
       "      <td>4.846308</td>\n",
       "      <td>0.320955</td>\n",
       "    </tr>\n",
       "    <tr>\n",
       "      <th>Stelasyn</th>\n",
       "      <td>54.233149</td>\n",
       "      <td>52.431737</td>\n",
       "      <td>45.0</td>\n",
       "      <td>59.450562</td>\n",
       "      <td>7.710419</td>\n",
       "      <td>0.573111</td>\n",
       "    </tr>\n",
       "    <tr>\n",
       "      <th>Zoniferol</th>\n",
       "      <td>53.236507</td>\n",
       "      <td>51.818479</td>\n",
       "      <td>45.0</td>\n",
       "      <td>48.533355</td>\n",
       "      <td>6.966589</td>\n",
       "      <td>0.516398</td>\n",
       "    </tr>\n",
       "  </tbody>\n",
       "</table>\n",
       "</div>"
      ],
      "text/plain": [
       "             Tumour Volume:                                                 \\\n",
       "                       Mean     Median  Mode   Variance Standard Deviation   \n",
       "Drug Regimen                                                                 \n",
       "Capomulin         40.675741  41.557809  45.0  24.947764           4.994774   \n",
       "Ceftamin          52.591172  51.776157  45.0  39.290177           6.268188   \n",
       "Infubinol         52.884795  51.820584  45.0  43.128684           6.567243   \n",
       "Ketapril          55.235638  53.698743  45.0  68.553577           8.279709   \n",
       "Naftisol          54.331565  52.509285  45.0  66.173479           8.134708   \n",
       "Placebo           54.033581  52.288934  45.0  61.168083           7.821003   \n",
       "Propriva          52.320930  50.446266  45.0  43.852013           6.622085   \n",
       "Ramicane          40.216745  40.673236  45.0  23.486704           4.846308   \n",
       "Stelasyn          54.233149  52.431737  45.0  59.450562           7.710419   \n",
       "Zoniferol         53.236507  51.818479  45.0  48.533355           6.966589   \n",
       "\n",
       "                        \n",
       "                   SEM  \n",
       "Drug Regimen            \n",
       "Capomulin     0.329346  \n",
       "Ceftamin      0.469821  \n",
       "Infubinol     0.492236  \n",
       "Ketapril      0.603860  \n",
       "Naftisol      0.596466  \n",
       "Placebo       0.581331  \n",
       "Propriva      0.544332  \n",
       "Ramicane      0.320955  \n",
       "Stelasyn      0.573111  \n",
       "Zoniferol     0.516398  "
      ]
     },
     "execution_count": 12,
     "metadata": {},
     "output_type": "execute_result"
    }
   ],
   "source": [
    "# Generating a summary statistics table of mean, median, variance, standard deviation, and SEM of the tumor volume for each regimen\n",
    "\n",
    "# Grouping the mouse data by regimen\n",
    "grouped_mouse_data = clean_mouse_data.groupby(['Drug Regimen'])\n",
    "\n",
    "# Creating the summary dataframe by applying the specific functions to the Tumour Volume column and changing the column names\n",
    "summary = pd.DataFrame(grouped_mouse_data[\"Tumor Volume (mm3)\"].agg([np.mean, \n",
    "                                                                     np.median, \n",
    "                                                                     pd.Series.mode, \n",
    "                                                                     np.var, \n",
    "                                                                     np.std, \n",
    "                                                                     \"sem\"]).rename(columns = {\"mean\":\"Mean\", \n",
    "                                                                                               \"median\":\"Median\", \n",
    "                                                                                               \"mode\":\"Mode\", \n",
    "                                                                                               \"var\":\"Variance\", \n",
    "                                                                                               \"std\":\"Standard Deviation\", \n",
    "                                                                                               \"sem\":\"SEM\"}))\n",
    "\n",
    "# Adding a second index above the column names to indicate that the data is regarding tumour volume\n",
    "summary.columns = pd.MultiIndex.from_product([['Tumour Volume:'],summary.columns])\n",
    "summary"
   ]
  },
  {
   "cell_type": "markdown",
   "metadata": {},
   "source": [
    "## Bar and Pie Charts"
   ]
  },
  {
   "cell_type": "code",
   "execution_count": 13,
   "metadata": {},
   "outputs": [
    {
     "data": {
      "image/png": "[encoded data removed]",
      "text/plain": [
       "<Figure size 576x360 with 1 Axes>"
      ]
     },
     "metadata": {
      "needs_background": "light"
     },
     "output_type": "display_data"
    }
   ],
   "source": [
    "# Generating a bar plot showing the total number of mice for each treatment throughout the course of the study using pandas. \n",
    "\n",
    "# Creating a dataframe that includes one occurance of each mouse, removing all but the first occuring time points\n",
    "unique_mice_df = clean_mouse_data.drop_duplicates(subset = 'Mouse ID', keep = 'first')\n",
    "\n",
    "# Creating a new dataframe that is grouped by 'Drug Regimen', where the columns are counted to get the number of mice\n",
    "grouped_regimen_df = unique_mice_df.groupby([\"Drug Regimen\"]).count()\n",
    "\n",
    "# Simplifying the datframe to just include the Drug Regimen index and the Mouse ID column\n",
    "mice_per_treatment = grouped_regimen_df[\"Mouse ID\"]\n",
    "\n",
    "# Plotting the bar chart directly from the dataframe\n",
    "mice_per_treatment_chart = mice_per_treatment.plot(kind = \"bar\", title = \"Number of Mice Per Treatment\", figsize=(8,5))\n",
    "mice_per_treatment_chart.set_ylabel(\"Number of Mice\")\n",
    "plt.tight_layout()\n"
   ]
  },
  {
   "cell_type": "code",
   "execution_count": 14,
   "metadata": {},
   "outputs": [
    {
     "data": {
      "image/png": "[encoded data removed]",
      "text/plain": [
       "<Figure size 432x288 with 1 Axes>"
      ]
     },
     "metadata": {
      "needs_background": "light"
     },
     "output_type": "display_data"
    }
   ],
   "source": [
    "# Generating a bar plot showing the total number of mice for each treatment throughout the course of the study using pyplot.\n",
    "\n",
    "# Will be obtaining data from grouped_regimen_df created above\n",
    "# Setting x axis as a numbered list, setting y axis as the values of the Mouse ID colunm \n",
    "x_axis = np.arange(len(grouped_regimen_df))\n",
    "y_axis = grouped_regimen_df[\"Mouse ID\"]\n",
    "\n",
    "# Creating tick locations and setting the xticks values as the index of the dataframe\n",
    "tick_locations = [value for value in x_axis]\n",
    "xticks = grouped_regimen_df.index\n",
    "\n",
    "# Plotting the chart\n",
    "plt.bar(x_axis, y_axis, align=\"center\")\n",
    "plt.xticks(tick_locations, xticks, rotation=\"vertical\")\n",
    "plt.tight_layout()\n",
    "\n",
    "# Setting x limits for neatness of x axis\n",
    "plt.xlim(-0.75, len(x_axis)- 0.25)\n",
    "\n",
    "# Setting a title and labels\n",
    "plt.title(\"Number of Mice Per Treatment\")\n",
    "plt.xlabel(\"Drug Regimen\")\n",
    "plt.ylabel(\"Number of Mice\")\n",
    "plt.show()"
   ]
  },
  {
   "cell_type": "code",
   "execution_count": 15,
   "metadata": {},
   "outputs": [
    {
     "data": {
      "image/png": "[encoded data removed]",
      "text/plain": [
       "<Figure size 432x288 with 1 Axes>"
      ]
     },
     "metadata": {},
     "output_type": "display_data"
    }
   ],
   "source": [
    "# Generating a pie plot showing the distribution of female versus male mice using pandas\n",
    "\n",
    "# Referencing unique_mice_df because require only one occurance of each mouse\n",
    "# Grouping the dataframe by the sex of the mice and applying a count\n",
    "grouped_by_sex_df = unique_mice_df.groupby([\"Sex\"]).count()\n",
    "\n",
    "# Simplifying the datframe to just include the 'Sex' index and the Mouse ID column\n",
    "mice_per_sex = grouped_by_sex_df[\"Mouse ID\"]\n",
    "\n",
    "# Plotting the pie chart from the dataframe\n",
    "mice_per_sex_chart = mice_per_sex.plot(kind = \"pie\", title = \"Distribution of Female Versus Male Mice\", autopct=\"%1.1f%%\")\n",
    "mice_per_sex_chart.set_ylabel(\"\")\n",
    "plt.tight_layout()\n"
   ]
  },
  {
   "cell_type": "code",
   "execution_count": 16,
   "metadata": {},
   "outputs": [
    {
     "data": {
      "image/png": "[encoded data removed]",
      "text/plain": [
       "<Figure size 432x288 with 1 Axes>"
      ]
     },
     "metadata": {},
     "output_type": "display_data"
    }
   ],
   "source": [
    "# Generating a pie plot showing the distribution of female versus male mice using pyplot\n",
    "# referencing the grouped dataframe created above\n",
    "values = grouped_by_sex_df[\"Mouse ID\"]\n",
    "labels = grouped_by_sex_df.index\n",
    "\n",
    "distribution_of_sex_chart = plt.pie(values, labels = labels, autopct=\"%1.1f%%\")\n",
    "plt.title(\"Distribution of Female Versus Male Mice\")\n",
    "plt.tight_layout()\n",
    "plt.show()"
   ]
  },
  {
   "cell_type": "markdown",
   "metadata": {},
   "source": [
    "## Quartiles, Outliers and Boxplots"
   ]
  },
  {
   "cell_type": "code",
   "execution_count": 17,
   "metadata": {},
   "outputs": [
    {
     "name": "stdout",
     "output_type": "stream",
     "text": [
      "\n",
      "Values below 20.70456164999999 could be outliers for Capomulin.\n",
      "Values above 51.83201549 could be outliers for Capomulin.\n",
      "There are no outliers for Capomulin.\n",
      "\n",
      "Values below 17.912664470000003 could be outliers for Ramicane.\n",
      "Values above 54.30681135 could be outliers for Ramicane.\n",
      "There are no outliers for Ramicane.\n",
      "\n",
      "Values below 36.83290494999999 could be outliers for Infubinol.\n",
      "Values above 82.74144559000001 could be outliers for Infubinol.\n",
      "There is one outlier for Infubinol. It is 36.321345799999996.\n",
      "\n",
      "Values below 25.355449580000002 could be outliers for Ceftamin.\n",
      "Values above 87.66645829999999 could be outliers for Ceftamin.\n",
      "There are no outliers for Ceftamin.\n"
     ]
    }
   ],
   "source": [
    "# Calculating the final tumor volume of each mouse across four of the treatment regimens:  \n",
    "# Capomulin, Ramicane, Infubinol, and Ceftamin\n",
    "\n",
    "# Adjusting the dataframe to contain the last occurance of each Mouse ID\n",
    "# This will be the last timepoint where data was recorded, and therefore the final tumour volume for each mouse\n",
    "last_timepoint_df = clean_mouse_data.drop_duplicates(subset = 'Mouse ID', keep = 'last')\n",
    "\n",
    "# Creating a list of treatments \n",
    "treatments = [\"Capomulin\", \"Ramicane\", \"Infubinol\", \"Ceftamin\"]\n",
    "\n",
    "# Creating an empty list to fill with tumour volume data \n",
    "tumour_volume_data = []\n",
    "\n",
    "# Looping through each treatment\n",
    "for treatment in treatments: \n",
    "    \n",
    "    # Using loc to set the data frame to only contain the treatment being considered at that time\n",
    "    treatment_data = last_timepoint_df.loc[(last_timepoint_df[\"Drug Regimen\"] == treatment),:]\n",
    "    \n",
    "    # Accessing the Tumour Volume column for that treatment and setting it as a list\n",
    "    tumour_data = treatment_data[\"Tumor Volume (mm3)\"]\n",
    "    tumour_data_list = tumour_data.tolist()\n",
    "    \n",
    "    # Calculating the upper and lower bounds to check for outliers\n",
    "    quartiles = tumour_data.quantile([.25,.5,.75])\n",
    "    lowerq = quartiles[0.25]\n",
    "    upperq = quartiles[0.75]\n",
    "    iqr = upperq-lowerq\n",
    "    lower_bound = lowerq - (1.5*iqr)\n",
    "    upper_bound = upperq + (1.5*iqr)\n",
    "    \n",
    "    # Printing the upper and lower bounds\n",
    "    print(f\"\")\n",
    "    print(f\"Values below {lower_bound} could be outliers for {treatment}.\")\n",
    "    print(f\"Values above {upper_bound} could be outliers for {treatment}.\")\n",
    "    \n",
    "    # Checking for values that are outliers and setting them as a list\n",
    "    outliers = treatment_data.loc[(treatment_data[\"Tumor Volume (mm3)\"] < lower_bound) | (treatment_data[\"Tumor Volume (mm3)\"] > upper_bound)][\"Tumor Volume (mm3)\"]\n",
    "    outliers_value =  outliers.tolist()   \n",
    "    \n",
    "    # Printing the outliers if they exist, or stating there are none if they don't\n",
    "    if len(outliers) == 0:\n",
    "        print(f\"There are no outliers for {treatment}.\") \n",
    "    elif len(outliers) == 1:\n",
    "        print(f\"There is one outlier for {treatment}. It is {outliers_value[0]}.\")\n",
    "    elif len(outliers) == 2:\n",
    "        print(f\"There are two outliers for {treatment}. They are {outliers_value[0]} and {outliers_value[1]}.\")\n",
    "    else:\n",
    "        print(f\"There are more than two outliers for {treatment}.\")\n",
    "    \n",
    "    # Adding the tumour data for the individul treatment to the list for plotting\n",
    "    tumour_volume_data.append(tumour_data_list)\n",
    "   "
   ]
  },
  {
   "cell_type": "code",
   "execution_count": 19,
   "metadata": {},
   "outputs": [
    {
     "data": {
      "image/png": "[encoded data removed]",
      "text/plain": [
       "<Figure size 432x288 with 1 Axes>"
      ]
     },
     "metadata": {
      "needs_background": "light"
     },
     "output_type": "display_data"
    }
   ],
   "source": [
    "# Generating a box plot of the final tumor volume of each mouse across four regimens of interest\n",
    "\n",
    "# Creating a symbol for the outlier\n",
    "green_diamond = dict(markerfacecolor='fuchsia', marker='o')\n",
    "fig1, ax1 = plt.subplots()\n",
    "ax1.set_title('Final Tumor Volumes')\n",
    "ax1.set_ylabel('Tumor Volume (mm3)')\n",
    "ax1.set_xlabel('Drug Regimens')\n",
    "ax1.boxplot(tumour_volume_data, flierprops = green_diamond)\n",
    "ax1.set_xticklabels(treatments)\n",
    "plt.show()"
   ]
  },
  {
   "cell_type": "markdown",
   "metadata": {},
   "source": [
    "## Line and Scatter Plots"
   ]
  },
  {
   "cell_type": "code",
   "execution_count": 20,
   "metadata": {},
   "outputs": [
    {
     "data": {
      "image/png": "[encoded data removed]",
      "text/plain": [
       "<Figure size 432x288 with 1 Axes>"
      ]
     },
     "metadata": {
      "needs_background": "light"
     },
     "output_type": "display_data"
    }
   ],
   "source": [
    "# Generating a line plot of time point versus tumor volume for a mouse treated with Capomulin\n",
    "\n",
    "# Adjusting the dataframe to contain only Capomulin data and the relevant columns\n",
    "capomulin_data = clean_mouse_data.loc[(clean_mouse_data[\"Drug Regimen\"] == \"Capomulin\"), [\"Mouse ID\", \"Timepoint\", \"Tumor Volume (mm3)\"]]\n",
    "\n",
    "# Looking at Mouse ID: s185, adjusting the dataframe to contain relevant information\n",
    "s185_df = capomulin_data.loc[(capomulin_data[\"Mouse ID\"] == \"s185\"), [\"Timepoint\", \"Tumor Volume (mm3)\"]]\n",
    "\n",
    "# Plotting time point vs. tumour volume for s185\n",
    "graph = s185_df.plot(kind = \"line\", x = \"Timepoint\",  title = \"Time Point VS. Tumour Volume (Mouse ID: s185)\")\n",
    "\n",
    "\n",
    "# need to make it look nicer\n",
    "# maybe adjust from 0 to 45 on the x axis"
   ]
  },
  {
   "cell_type": "code",
   "execution_count": 21,
   "metadata": {},
   "outputs": [
    {
     "data": {
      "image/png": "[encoded data removed]",
      "text/plain": [
       "<Figure size 576x576 with 1 Axes>"
      ]
     },
     "metadata": {
      "needs_background": "light"
     },
     "output_type": "display_data"
    }
   ],
   "source": [
    "# Generating a scatter plot of mouse weight versus average tumour volume for the Capomulin regimen\n",
    "\n",
    "# Adjusting the dataframe to contain only Capomulin data and the relevant columns\n",
    "capomulin_weight_df = clean_mouse_data.loc[(clean_mouse_data[\"Drug Regimen\"] == \"Capomulin\"), [\"Drug Regimen\", \"Weight (g)\", \"Tumor Volume (mm3)\"]]\n",
    "\n",
    "# Grouping the dataframe by weight and finding the average tumour volume\n",
    "group_by_weight_df = capomulin_weight_df.groupby([\"Weight (g)\"], as_index = False).mean()\n",
    "\n",
    "# Plotting weight vs. average tumour volume\n",
    "chart = group_by_weight_df.plot(kind=\"scatter\", x= \"Weight (g)\", y=\"Tumor Volume (mm3)\", grid=True, figsize=(8,8),title=\"Mouse Weight Vs. Average Tumour Volume\")\n",
    "plt.show()\n",
    "\n",
    "#need to make it look better\n",
    "# somehow start at 0??\n",
    "# have this using the other method as well but still don't love that"
   ]
  },
  {
   "cell_type": "code",
   "execution_count": null,
   "metadata": {},
   "outputs": [],
   "source": []
  },
  {
   "cell_type": "markdown",
   "metadata": {},
   "source": [
    "## Correlation and Regression"
   ]
  },
  {
   "cell_type": "code",
   "execution_count": 23,
   "metadata": {},
   "outputs": [
    {
     "name": "stdout",
     "output_type": "stream",
     "text": [
      "The correlation between both factors is 0.95\n"
     ]
    },
    {
     "data": {
      "image/png": "[encoded data removed]",
      "text/plain": [
       "<Figure size 432x288 with 1 Axes>"
      ]
     },
     "metadata": {
      "needs_background": "light"
     },
     "output_type": "display_data"
    }
   ],
   "source": [
    "# Calculating the correlation coefficient and linear regression model \n",
    "# for mouse weight and average tumor volume for the Capomulin regimen\n",
    "\n",
    "# Using group_by_weight_df \n",
    "# Setting variables\n",
    "weight = group_by_weight_df.iloc[:,0]\n",
    "tumour_volume = group_by_weight_df.iloc[:,1]\n",
    "\n",
    "# Calculating correlation\n",
    "correlation = st.pearsonr(weight,tumour_volume)\n",
    "print(f\"The correlation between both factors is {round(correlation[0],2)}\")\n",
    "\n",
    "# Calculating Regression line\n",
    "(slope, intercept, rvalue, pvalue, stderr) = linregress(weight, tumour_volume)\n",
    "regress_values = weight * slope + intercept\n",
    "line_eq = \"y = \" + str(round(slope,2)) + \"x + \" + str(round(intercept,2))\n",
    "\n",
    "# Plotting the scatterplot and regression model\n",
    "plt.scatter(weight, tumour_volume)\n",
    "plt.title(\"Mouse Weight Vs. Average Tumour Volume (With Regression Line)\")\n",
    "plt.xlabel(\"Weight (g)\")\n",
    "plt.ylabel(\"Tumor Volume (mm3)\")\n",
    "plt.plot(weight,regress_values,\"r-\")\n",
    "plt.annotate(line_eq,(21,40.5), fontsize=12,color=\"red\")\n",
    "plt.show()\n",
    "\n",
    "# again starting at 0, can it be done??"
   ]
  },
  {
   "cell_type": "code",
   "execution_count": null,
   "metadata": {},
   "outputs": [],
   "source": []
  }
 ],
 "metadata": {
  "kernelspec": {
   "display_name": "Python 3",
   "language": "python",
   "name": "python3"
  },
  "language_info": {
   "codemirror_mode": {
    "name": "ipython",
    "version": 3
   },
   "file_extension": ".py",
   "mimetype": "text/x-python",
   "name": "python",
   "nbconvert_exporter": "python",
   "pygments_lexer": "ipython3",
   "version": "3.6.10"
  }
 },
 "nbformat": 4,
 "nbformat_minor": 4
}
